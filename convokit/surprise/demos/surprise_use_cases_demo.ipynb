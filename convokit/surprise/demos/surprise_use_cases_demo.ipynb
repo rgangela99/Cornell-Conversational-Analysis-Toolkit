{
 "metadata": {
  "language_info": {
   "codemirror_mode": {
    "name": "ipython",
    "version": 3
   },
   "file_extension": ".py",
   "mimetype": "text/x-python",
   "name": "python",
   "nbconvert_exporter": "python",
   "pygments_lexer": "ipython3",
   "version": "3.7.7-final"
  },
  "orig_nbformat": 2,
  "kernelspec": {
   "name": "convokit-venv",
   "display_name": "convokit-venv"
  }
 },
 "nbformat": 4,
 "nbformat_minor": 2,
 "cells": [
  {
   "cell_type": "code",
   "execution_count": 1,
   "metadata": {},
   "outputs": [],
   "source": [
    "import convokit\n",
    "import numpy as np\n",
    "from convokit import Corpus, download, Surprise"
   ]
  },
  {
   "cell_type": "code",
   "execution_count": 2,
   "metadata": {
    "tags": []
   },
   "outputs": [
    {
     "output_type": "stream",
     "name": "stdout",
     "text": [
      "Dataset already exists at C:\\Users\\rgang\\.convokit\\downloads\\reddit-corpus-small\n",
      "Number of Speakers: 119889\n",
      "Number of Utterances: 297132\n",
      "Number of Conversations: 8286\n"
     ]
    }
   ],
   "source": [
    "corpus = Corpus(filename=download('reddit-corpus-small'))\n",
    "corpus.print_summary_stats()"
   ]
  },
  {
   "source": [
    "## Example 1: How surprising is an utterance compared to the rest of the conversation it belongs to?"
   ],
   "cell_type": "markdown",
   "metadata": {}
  },
  {
   "source": [
    "Let's first take a look at how long typical utterances are to get a sense of what we should set `target_sample_size` and `context_sample_size` to.\n",
    "\n",
    "Let's look at the average number of tokens in utterances in a conversation."
   ],
   "cell_type": "markdown",
   "metadata": {}
  },
  {
   "cell_type": "code",
   "execution_count": 7,
   "metadata": {
    "tags": []
   },
   "outputs": [
    {
     "output_type": "stream",
     "name": "stdout",
     "text": [
      "5203\n1\n34.141226794825194\n"
     ]
    }
   ],
   "source": [
    "utterances = corpus.get_utterances_dataframe()\n",
    "utterances['num_tokens'] = utterances['text'].map(lambda x: len(x.split(' ')))\n",
    "print(utterances['num_tokens'].max())\n",
    "print(utterances['num_tokens'].min())\n",
    "print(utterances['num_tokens'].mean())"
   ]
  },
  {
   "source": [
    "We see that the utterances have an average of around 34 tokens.\n",
    "\n",
    "To get an idea of what to set `context_sample_size` to, let's take a look at the total number of tokens in conversations."
   ],
   "cell_type": "markdown",
   "metadata": {}
  },
  {
   "cell_type": "code",
   "execution_count": 8,
   "metadata": {
    "tags": []
   },
   "outputs": [
    {
     "output_type": "stream",
     "name": "stdout",
     "text": [
      "68498\n11\n1224.288076273232\n"
     ]
    }
   ],
   "source": [
    "convo_lengths = utterances.groupby('conversation_id')['num_tokens'].sum()\n",
    "print(convo_lengths.max())\n",
    "print(convo_lengths.min())\n",
    "print(convo_lengths.mean())"
   ]
  },
  {
   "source": [
    "On average, a conversation contains around 1200 tokens."
   ],
   "cell_type": "markdown",
   "metadata": {}
  },
  {
   "source": [
    "To speed up the demo, we'll look at utterances from the top 10 conversations with the most utterances only."
   ],
   "cell_type": "markdown",
   "metadata": {}
  },
  {
   "cell_type": "code",
   "execution_count": 9,
   "metadata": {},
   "outputs": [],
   "source": [
    "top_convos = set(utterances.groupby('conversation_id').apply(len).sort_values(ascending=False)[:10].index)"
   ]
  },
  {
   "cell_type": "code",
   "execution_count": 10,
   "metadata": {},
   "outputs": [
    {
     "output_type": "stream",
     "name": "stdout",
     "text": [
      "Number of Speakers: 6346\nNumber of Utterances: 12264\nNumber of Conversations: 10\n"
     ]
    }
   ],
   "source": [
    "subset_corpus = corpus.filter_utterances_by(lambda utt: utt.text and utt.conversation_id in top_convos)\n",
    "subset_corpus.print_summary_stats()"
   ]
  },
  {
   "cell_type": "code",
   "execution_count": 11,
   "metadata": {},
   "outputs": [],
   "source": [
    "transformer = Surprise(target_sample_size=30, context_sample_size=200, n_samples=50)"
   ]
  },
  {
   "cell_type": "code",
   "execution_count": 12,
   "metadata": {},
   "outputs": [
    {
     "output_type": "execute_result",
     "data": {
      "text/plain": [
       "<convokit.surprise.surprise.Surprise at 0x1f6ebff7108>"
      ]
     },
     "metadata": {},
     "execution_count": 12
    }
   ],
   "source": [
    "transformer.fit(corpus, group_models_by=['conversation'])"
   ]
  },
  {
   "cell_type": "code",
   "execution_count": 13,
   "metadata": {
    "tags": []
   },
   "outputs": [],
   "source": [
    "transformed_corpus = transformer.transform(subset_corpus, 'utterance', group_target_by=['conversation', 'utterance'], context_selector=lambda s,t: (s.index.get_level_values('conversation_id') == t[0] and s.index.get_level_values('id') != t[1]), model_selector=lambda ind: ind[0])"
   ]
  },
  {
   "source": [
    "The most surprising utterances are below."
   ],
   "cell_type": "markdown",
   "metadata": {}
  },
  {
   "cell_type": "code",
   "execution_count": 14,
   "metadata": {},
   "outputs": [
    {
     "output_type": "execute_result",
     "data": {
      "text/plain": [
       "          timestamp                                               text  \\\n",
       "id                                                                       \n",
       "e6mskll  1537908515  10.0 feet ≈ 3.0 metres ^(1 foot ≈ 0.3m)\\n\\n\\n\\...   \n",
       "e6t39yd  1538155461  **Direct link**: https://www.theguardian.com/w...   \n",
       "e6wfu7x  1538300161  [Local cop killed a 15 year old because he was...   \n",
       "e6mnmbs  1537904561  Turns out importing a surplus of low skilled w...   \n",
       "e6ms2sc  1537908112  I read the_dumpsterfire a lot. Wanna really kn...   \n",
       "e6mekpq  1537897256  Federally, the minimum wage was last raised ab...   \n",
       "e6mm6xi  1537903433  That's because it's Vox, and Vox is fucking jo...   \n",
       "e5bu0sb  1535994776  Well it certainly works better than what my an...   \n",
       "e5cbb0z  1536010875  Nope, Doing something right. It’s lazy, dated ...   \n",
       "e5rq1lj  1536643606  Not to mention counterfeit drugs (and other it...   \n",
       "\n",
       "                      speaker reply_to conversation_id meta.score  \\\n",
       "id                                                                  \n",
       "e6mskll            Bot_Metric  e6msk4j          9itezj          2   \n",
       "e6t39yd   amp-is-watching-you  e6t38zb          9jgr31          1   \n",
       "e6wfu7x       DeathMonkey6969  e6w4jnl          9k1ydy         19   \n",
       "e6mnmbs      politicusmaximus  e6mgooz          9itezj          4   \n",
       "e6ms2sc  PMme_slave_leia_pics  e6mnn9n          9itezj         19   \n",
       "e6mekpq              hexqueen  e6mebo1          9itezj         45   \n",
       "e6mm6xi      politicusmaximus  e6miz8i          9itezj          7   \n",
       "e5bu0sb         OzzieBloke777  e5bp7cl          9cmazx          3   \n",
       "e5cbb0z           fringerella  e5c97x2          9cmazx          2   \n",
       "e5rq1lj       JardinSurLeToit  e5qm5zf          9enmff          2   \n",
       "\n",
       "        meta.top_level_comment meta.retrieved_on meta.gilded  \\\n",
       "id                                                             \n",
       "e6mskll                e6m98ca        1539527904           0   \n",
       "e6t39yd                e6rkv1a        1539633737           0   \n",
       "e6wfu7x                e6w2jru        1539690040           0   \n",
       "e6mnmbs                e6m98ca        1539525639           0   \n",
       "e6ms2sc                e6mbat3        1539527694           0   \n",
       "e6mekpq                e6m98ca        1539521315           0   \n",
       "e6mm6xi                e6m98ca        1539524977           0   \n",
       "e5bu0sb                e5bo75z        1538624701           0   \n",
       "e5cbb0z                e5bo75z        1538632738           0   \n",
       "e5rq1lj                e5q8q50        1538928677           0   \n",
       "\n",
       "                                meta.gildings meta.subreddit meta.stickied  \\\n",
       "id                                                                           \n",
       "e6mskll  {'gid_1': 0, 'gid_2': 0, 'gid_3': 0}         cringe         False   \n",
       "e6t39yd  {'gid_1': 0, 'gid_2': 0, 'gid_3': 0}           pics         False   \n",
       "e6wfu7x  {'gid_1': 0, 'gid_2': 0, 'gid_3': 0}         videos         False   \n",
       "e6mnmbs  {'gid_1': 0, 'gid_2': 0, 'gid_3': 0}         cringe         False   \n",
       "e6ms2sc  {'gid_1': 0, 'gid_2': 0, 'gid_3': 0}         cringe         False   \n",
       "e6mekpq  {'gid_1': 0, 'gid_2': 0, 'gid_3': 0}         cringe         False   \n",
       "e6mm6xi  {'gid_1': 0, 'gid_2': 0, 'gid_3': 0}         cringe         False   \n",
       "e5bu0sb  {'gid_1': 0, 'gid_2': 0, 'gid_3': 0}           pics         False   \n",
       "e5cbb0z  {'gid_1': 0, 'gid_2': 0, 'gid_3': 0}           pics         False   \n",
       "e5rq1lj  {'gid_1': 0, 'gid_2': 0, 'gid_3': 0}  todayilearned         False   \n",
       "\n",
       "                                            meta.permalink  \\\n",
       "id                                                           \n",
       "e6mskll  /r/cringe/comments/9itezj/un_audience_laughs_a...   \n",
       "e6t39yd  /r/pics/comments/9jgr31/brett_kavanaugh_the_wo...   \n",
       "e6wfu7x  /r/videos/comments/9k1ydy/tesla_model_3_tricks...   \n",
       "e6mnmbs  /r/cringe/comments/9itezj/un_audience_laughs_a...   \n",
       "e6ms2sc  /r/cringe/comments/9itezj/un_audience_laughs_a...   \n",
       "e6mekpq  /r/cringe/comments/9itezj/un_audience_laughs_a...   \n",
       "e6mm6xi  /r/cringe/comments/9itezj/un_audience_laughs_a...   \n",
       "e5bu0sb  /r/pics/comments/9cmazx/they_noticed_there_was...   \n",
       "e5cbb0z  /r/pics/comments/9cmazx/they_noticed_there_was...   \n",
       "e5rq1lj  /r/todayilearned/comments/9enmff/til_that_chea...   \n",
       "\n",
       "        meta.author_flair_text meta.surprise  \n",
       "id                                            \n",
       "e6mskll                              4.94314  \n",
       "e6t39yd                              4.93701  \n",
       "e6wfu7x                              4.92551  \n",
       "e6mnmbs                               4.5337  \n",
       "e6ms2sc                              4.48032  \n",
       "e6mekpq                              4.43135  \n",
       "e6mm6xi                              4.42079  \n",
       "e5bu0sb                               4.3292  \n",
       "e5cbb0z                              4.32511  \n",
       "e5rq1lj                              4.29813  "
      ],
      "text/html": "<div>\n<style scoped>\n    .dataframe tbody tr th:only-of-type {\n        vertical-align: middle;\n    }\n\n    .dataframe tbody tr th {\n        vertical-align: top;\n    }\n\n    .dataframe thead th {\n        text-align: right;\n    }\n</style>\n<table border=\"1\" class=\"dataframe\">\n  <thead>\n    <tr style=\"text-align: right;\">\n      <th></th>\n      <th>timestamp</th>\n      <th>text</th>\n      <th>speaker</th>\n      <th>reply_to</th>\n      <th>conversation_id</th>\n      <th>meta.score</th>\n      <th>meta.top_level_comment</th>\n      <th>meta.retrieved_on</th>\n      <th>meta.gilded</th>\n      <th>meta.gildings</th>\n      <th>meta.subreddit</th>\n      <th>meta.stickied</th>\n      <th>meta.permalink</th>\n      <th>meta.author_flair_text</th>\n      <th>meta.surprise</th>\n    </tr>\n    <tr>\n      <th>id</th>\n      <th></th>\n      <th></th>\n      <th></th>\n      <th></th>\n      <th></th>\n      <th></th>\n      <th></th>\n      <th></th>\n      <th></th>\n      <th></th>\n      <th></th>\n      <th></th>\n      <th></th>\n      <th></th>\n      <th></th>\n    </tr>\n  </thead>\n  <tbody>\n    <tr>\n      <th>e6mskll</th>\n      <td>1537908515</td>\n      <td>10.0 feet ≈ 3.0 metres ^(1 foot ≈ 0.3m)\\n\\n\\n\\...</td>\n      <td>Bot_Metric</td>\n      <td>e6msk4j</td>\n      <td>9itezj</td>\n      <td>2</td>\n      <td>e6m98ca</td>\n      <td>1539527904</td>\n      <td>0</td>\n      <td>{'gid_1': 0, 'gid_2': 0, 'gid_3': 0}</td>\n      <td>cringe</td>\n      <td>False</td>\n      <td>/r/cringe/comments/9itezj/un_audience_laughs_a...</td>\n      <td></td>\n      <td>4.94314</td>\n    </tr>\n    <tr>\n      <th>e6t39yd</th>\n      <td>1538155461</td>\n      <td>**Direct link**: https://www.theguardian.com/w...</td>\n      <td>amp-is-watching-you</td>\n      <td>e6t38zb</td>\n      <td>9jgr31</td>\n      <td>1</td>\n      <td>e6rkv1a</td>\n      <td>1539633737</td>\n      <td>0</td>\n      <td>{'gid_1': 0, 'gid_2': 0, 'gid_3': 0}</td>\n      <td>pics</td>\n      <td>False</td>\n      <td>/r/pics/comments/9jgr31/brett_kavanaugh_the_wo...</td>\n      <td></td>\n      <td>4.93701</td>\n    </tr>\n    <tr>\n      <th>e6wfu7x</th>\n      <td>1538300161</td>\n      <td>[Local cop killed a 15 year old because he was...</td>\n      <td>DeathMonkey6969</td>\n      <td>e6w4jnl</td>\n      <td>9k1ydy</td>\n      <td>19</td>\n      <td>e6w2jru</td>\n      <td>1539690040</td>\n      <td>0</td>\n      <td>{'gid_1': 0, 'gid_2': 0, 'gid_3': 0}</td>\n      <td>videos</td>\n      <td>False</td>\n      <td>/r/videos/comments/9k1ydy/tesla_model_3_tricks...</td>\n      <td></td>\n      <td>4.92551</td>\n    </tr>\n    <tr>\n      <th>e6mnmbs</th>\n      <td>1537904561</td>\n      <td>Turns out importing a surplus of low skilled w...</td>\n      <td>politicusmaximus</td>\n      <td>e6mgooz</td>\n      <td>9itezj</td>\n      <td>4</td>\n      <td>e6m98ca</td>\n      <td>1539525639</td>\n      <td>0</td>\n      <td>{'gid_1': 0, 'gid_2': 0, 'gid_3': 0}</td>\n      <td>cringe</td>\n      <td>False</td>\n      <td>/r/cringe/comments/9itezj/un_audience_laughs_a...</td>\n      <td></td>\n      <td>4.5337</td>\n    </tr>\n    <tr>\n      <th>e6ms2sc</th>\n      <td>1537908112</td>\n      <td>I read the_dumpsterfire a lot. Wanna really kn...</td>\n      <td>PMme_slave_leia_pics</td>\n      <td>e6mnn9n</td>\n      <td>9itezj</td>\n      <td>19</td>\n      <td>e6mbat3</td>\n      <td>1539527694</td>\n      <td>0</td>\n      <td>{'gid_1': 0, 'gid_2': 0, 'gid_3': 0}</td>\n      <td>cringe</td>\n      <td>False</td>\n      <td>/r/cringe/comments/9itezj/un_audience_laughs_a...</td>\n      <td></td>\n      <td>4.48032</td>\n    </tr>\n    <tr>\n      <th>e6mekpq</th>\n      <td>1537897256</td>\n      <td>Federally, the minimum wage was last raised ab...</td>\n      <td>hexqueen</td>\n      <td>e6mebo1</td>\n      <td>9itezj</td>\n      <td>45</td>\n      <td>e6m98ca</td>\n      <td>1539521315</td>\n      <td>0</td>\n      <td>{'gid_1': 0, 'gid_2': 0, 'gid_3': 0}</td>\n      <td>cringe</td>\n      <td>False</td>\n      <td>/r/cringe/comments/9itezj/un_audience_laughs_a...</td>\n      <td></td>\n      <td>4.43135</td>\n    </tr>\n    <tr>\n      <th>e6mm6xi</th>\n      <td>1537903433</td>\n      <td>That's because it's Vox, and Vox is fucking jo...</td>\n      <td>politicusmaximus</td>\n      <td>e6miz8i</td>\n      <td>9itezj</td>\n      <td>7</td>\n      <td>e6m98ca</td>\n      <td>1539524977</td>\n      <td>0</td>\n      <td>{'gid_1': 0, 'gid_2': 0, 'gid_3': 0}</td>\n      <td>cringe</td>\n      <td>False</td>\n      <td>/r/cringe/comments/9itezj/un_audience_laughs_a...</td>\n      <td></td>\n      <td>4.42079</td>\n    </tr>\n    <tr>\n      <th>e5bu0sb</th>\n      <td>1535994776</td>\n      <td>Well it certainly works better than what my an...</td>\n      <td>OzzieBloke777</td>\n      <td>e5bp7cl</td>\n      <td>9cmazx</td>\n      <td>3</td>\n      <td>e5bo75z</td>\n      <td>1538624701</td>\n      <td>0</td>\n      <td>{'gid_1': 0, 'gid_2': 0, 'gid_3': 0}</td>\n      <td>pics</td>\n      <td>False</td>\n      <td>/r/pics/comments/9cmazx/they_noticed_there_was...</td>\n      <td></td>\n      <td>4.3292</td>\n    </tr>\n    <tr>\n      <th>e5cbb0z</th>\n      <td>1536010875</td>\n      <td>Nope, Doing something right. It’s lazy, dated ...</td>\n      <td>fringerella</td>\n      <td>e5c97x2</td>\n      <td>9cmazx</td>\n      <td>2</td>\n      <td>e5bo75z</td>\n      <td>1538632738</td>\n      <td>0</td>\n      <td>{'gid_1': 0, 'gid_2': 0, 'gid_3': 0}</td>\n      <td>pics</td>\n      <td>False</td>\n      <td>/r/pics/comments/9cmazx/they_noticed_there_was...</td>\n      <td></td>\n      <td>4.32511</td>\n    </tr>\n    <tr>\n      <th>e5rq1lj</th>\n      <td>1536643606</td>\n      <td>Not to mention counterfeit drugs (and other it...</td>\n      <td>JardinSurLeToit</td>\n      <td>e5qm5zf</td>\n      <td>9enmff</td>\n      <td>2</td>\n      <td>e5q8q50</td>\n      <td>1538928677</td>\n      <td>0</td>\n      <td>{'gid_1': 0, 'gid_2': 0, 'gid_3': 0}</td>\n      <td>todayilearned</td>\n      <td>False</td>\n      <td>/r/todayilearned/comments/9enmff/til_that_chea...</td>\n      <td></td>\n      <td>4.29813</td>\n    </tr>\n  </tbody>\n</table>\n</div>"
     },
     "metadata": {},
     "execution_count": 14
    }
   ],
   "source": [
    "transformed_corpus.get_utterances_dataframe().sort_values('meta.surprise', ascending=False).head(10)"
   ]
  },
  {
   "source": [
    "These are the least surprising utterances."
   ],
   "cell_type": "markdown",
   "metadata": {}
  },
  {
   "cell_type": "code",
   "execution_count": 15,
   "metadata": {},
   "outputs": [
    {
     "output_type": "execute_result",
     "data": {
      "text/plain": [
       "          timestamp                                               text  \\\n",
       "id                                                                       \n",
       "e589li3  1535832300  She isn't the one making it about her. He is. ...   \n",
       "e5bs1ii  1535992938  I promise you the branding is good enough. And...   \n",
       "e58iauu  1535840680  This is not AMBIGUOUS, you lubed up dildo. \\n\\...   \n",
       "e58dvq6  1535836384  It amazes me that he can look her in the eye w...   \n",
       "e5m3kzc  1536418562  Censorship of speech. You can paint it however...   \n",
       "e58rzs0  1535850627  I'll make it easier for you, then: you did it ...   \n",
       "e5jmfq9  1536306421  The thing is youtube claims system is not base...   \n",
       "e5lyy7b  1536412777  Is there something for me to drink but only ha...   \n",
       "e5kg6go  1536342368  Adding to this; the crash you feel after the c...   \n",
       "e5qm7tu  1536606025  We had international students from China when ...   \n",
       "\n",
       "                    speaker reply_to conversation_id meta.score  \\\n",
       "id                                                                \n",
       "e589li3  CaptainHarleyStorm  e5890a1          9c4wc2         22   \n",
       "e5bs1ii           Larry-Man  e5bry78          9cmazx          1   \n",
       "e58iauu             Eboo143  e58gybu          9c4wc2          8   \n",
       "e58dvq6             Challa6  e583fp8          9c4wc2          2   \n",
       "e5m3kzc              ppc127  e5lbfu6          9e0nal          1   \n",
       "e58rzs0        SabbathViper  e58kigr          9c4wc2         -1   \n",
       "e5jmfq9               Ekint  e5iivyl          9dixh1          1   \n",
       "e5lyy7b      parrot_in_hell  e5k5np8          9durlp          1   \n",
       "e5kg6go          Spider-Ian  e5k5np8          9durlp          1   \n",
       "e5qm7tu   TheProphecyIsNigh  e5q8q50          9enmff          1   \n",
       "\n",
       "        meta.top_level_comment meta.retrieved_on meta.gilded  \\\n",
       "id                                                             \n",
       "e589li3                e581pbs        1538564694           0   \n",
       "e5bs1ii                e5bo75z        1538623805           0   \n",
       "e58iauu                e58as0b        1538568769           0   \n",
       "e58dvq6                e581pbs        1538566678           0   \n",
       "e5m3kzc                e5lbfu6        1538834049           0   \n",
       "e58rzs0                e5844mv        1538573263           0   \n",
       "e5jmfq9                e5ibybt        1538770435           0   \n",
       "e5lyy7b                e5k5np8        1538831861           0   \n",
       "e5kg6go                e5k5np8        1538798451           0   \n",
       "e5qm7tu                e5q8q50        1538910016           0   \n",
       "\n",
       "                                meta.gildings     meta.subreddit  \\\n",
       "id                                                                 \n",
       "e589li3  {'gid_1': 0, 'gid_2': 0, 'gid_3': 0}         cringepics   \n",
       "e5bs1ii  {'gid_1': 0, 'gid_2': 0, 'gid_3': 0}               pics   \n",
       "e58iauu  {'gid_1': 0, 'gid_2': 0, 'gid_3': 0}         cringepics   \n",
       "e58dvq6  {'gid_1': 0, 'gid_2': 0, 'gid_3': 0}         cringepics   \n",
       "e5m3kzc  {'gid_1': 0, 'gid_2': 0, 'gid_3': 0}         technology   \n",
       "e58rzs0  {'gid_1': 0, 'gid_2': 0, 'gid_3': 0}         cringepics   \n",
       "e5jmfq9  {'gid_1': 0, 'gid_2': 0, 'gid_3': 0}              Music   \n",
       "e5lyy7b  {'gid_1': 0, 'gid_2': 0, 'gid_3': 0}  explainlikeimfive   \n",
       "e5kg6go  {'gid_1': 0, 'gid_2': 0, 'gid_3': 0}  explainlikeimfive   \n",
       "e5qm7tu  {'gid_1': 0, 'gid_2': 0, 'gid_3': 0}      todayilearned   \n",
       "\n",
       "        meta.stickied                                     meta.permalink  \\\n",
       "id                                                                         \n",
       "e589li3         False  /r/cringepics/comments/9c4wc2/mr_hands_over_he...   \n",
       "e5bs1ii         False  /r/pics/comments/9cmazx/they_noticed_there_was...   \n",
       "e58iauu         False  /r/cringepics/comments/9c4wc2/mr_hands_over_he...   \n",
       "e58dvq6         False  /r/cringepics/comments/9c4wc2/mr_hands_over_he...   \n",
       "e5m3kzc         False  /r/technology/comments/9e0nal/apple_just_perma...   \n",
       "e58rzs0         False  /r/cringepics/comments/9c4wc2/mr_hands_over_he...   \n",
       "e5jmfq9         False  /r/Music/comments/9dixh1/the_future_is_here_to...   \n",
       "e5lyy7b         False  /r/explainlikeimfive/comments/9durlp/eli5_caff...   \n",
       "e5kg6go         False  /r/explainlikeimfive/comments/9durlp/eli5_caff...   \n",
       "e5qm7tu         False  /r/todayilearned/comments/9enmff/til_that_chea...   \n",
       "\n",
       "        meta.author_flair_text meta.surprise  \n",
       "id                                            \n",
       "e589li3                              1.54767  \n",
       "e5bs1ii                              1.75255  \n",
       "e58iauu                              1.80216  \n",
       "e58dvq6                              1.81582  \n",
       "e5m3kzc                               1.8177  \n",
       "e58rzs0                              1.81774  \n",
       "e5jmfq9                              1.82878  \n",
       "e5lyy7b                              1.83889  \n",
       "e5kg6go                              1.86629  \n",
       "e5qm7tu                              1.87036  "
      ],
      "text/html": "<div>\n<style scoped>\n    .dataframe tbody tr th:only-of-type {\n        vertical-align: middle;\n    }\n\n    .dataframe tbody tr th {\n        vertical-align: top;\n    }\n\n    .dataframe thead th {\n        text-align: right;\n    }\n</style>\n<table border=\"1\" class=\"dataframe\">\n  <thead>\n    <tr style=\"text-align: right;\">\n      <th></th>\n      <th>timestamp</th>\n      <th>text</th>\n      <th>speaker</th>\n      <th>reply_to</th>\n      <th>conversation_id</th>\n      <th>meta.score</th>\n      <th>meta.top_level_comment</th>\n      <th>meta.retrieved_on</th>\n      <th>meta.gilded</th>\n      <th>meta.gildings</th>\n      <th>meta.subreddit</th>\n      <th>meta.stickied</th>\n      <th>meta.permalink</th>\n      <th>meta.author_flair_text</th>\n      <th>meta.surprise</th>\n    </tr>\n    <tr>\n      <th>id</th>\n      <th></th>\n      <th></th>\n      <th></th>\n      <th></th>\n      <th></th>\n      <th></th>\n      <th></th>\n      <th></th>\n      <th></th>\n      <th></th>\n      <th></th>\n      <th></th>\n      <th></th>\n      <th></th>\n      <th></th>\n    </tr>\n  </thead>\n  <tbody>\n    <tr>\n      <th>e589li3</th>\n      <td>1535832300</td>\n      <td>She isn't the one making it about her. He is. ...</td>\n      <td>CaptainHarleyStorm</td>\n      <td>e5890a1</td>\n      <td>9c4wc2</td>\n      <td>22</td>\n      <td>e581pbs</td>\n      <td>1538564694</td>\n      <td>0</td>\n      <td>{'gid_1': 0, 'gid_2': 0, 'gid_3': 0}</td>\n      <td>cringepics</td>\n      <td>False</td>\n      <td>/r/cringepics/comments/9c4wc2/mr_hands_over_he...</td>\n      <td></td>\n      <td>1.54767</td>\n    </tr>\n    <tr>\n      <th>e5bs1ii</th>\n      <td>1535992938</td>\n      <td>I promise you the branding is good enough. And...</td>\n      <td>Larry-Man</td>\n      <td>e5bry78</td>\n      <td>9cmazx</td>\n      <td>1</td>\n      <td>e5bo75z</td>\n      <td>1538623805</td>\n      <td>0</td>\n      <td>{'gid_1': 0, 'gid_2': 0, 'gid_3': 0}</td>\n      <td>pics</td>\n      <td>False</td>\n      <td>/r/pics/comments/9cmazx/they_noticed_there_was...</td>\n      <td></td>\n      <td>1.75255</td>\n    </tr>\n    <tr>\n      <th>e58iauu</th>\n      <td>1535840680</td>\n      <td>This is not AMBIGUOUS, you lubed up dildo. \\n\\...</td>\n      <td>Eboo143</td>\n      <td>e58gybu</td>\n      <td>9c4wc2</td>\n      <td>8</td>\n      <td>e58as0b</td>\n      <td>1538568769</td>\n      <td>0</td>\n      <td>{'gid_1': 0, 'gid_2': 0, 'gid_3': 0}</td>\n      <td>cringepics</td>\n      <td>False</td>\n      <td>/r/cringepics/comments/9c4wc2/mr_hands_over_he...</td>\n      <td></td>\n      <td>1.80216</td>\n    </tr>\n    <tr>\n      <th>e58dvq6</th>\n      <td>1535836384</td>\n      <td>It amazes me that he can look her in the eye w...</td>\n      <td>Challa6</td>\n      <td>e583fp8</td>\n      <td>9c4wc2</td>\n      <td>2</td>\n      <td>e581pbs</td>\n      <td>1538566678</td>\n      <td>0</td>\n      <td>{'gid_1': 0, 'gid_2': 0, 'gid_3': 0}</td>\n      <td>cringepics</td>\n      <td>False</td>\n      <td>/r/cringepics/comments/9c4wc2/mr_hands_over_he...</td>\n      <td></td>\n      <td>1.81582</td>\n    </tr>\n    <tr>\n      <th>e5m3kzc</th>\n      <td>1536418562</td>\n      <td>Censorship of speech. You can paint it however...</td>\n      <td>ppc127</td>\n      <td>e5lbfu6</td>\n      <td>9e0nal</td>\n      <td>1</td>\n      <td>e5lbfu6</td>\n      <td>1538834049</td>\n      <td>0</td>\n      <td>{'gid_1': 0, 'gid_2': 0, 'gid_3': 0}</td>\n      <td>technology</td>\n      <td>False</td>\n      <td>/r/technology/comments/9e0nal/apple_just_perma...</td>\n      <td></td>\n      <td>1.8177</td>\n    </tr>\n    <tr>\n      <th>e58rzs0</th>\n      <td>1535850627</td>\n      <td>I'll make it easier for you, then: you did it ...</td>\n      <td>SabbathViper</td>\n      <td>e58kigr</td>\n      <td>9c4wc2</td>\n      <td>-1</td>\n      <td>e5844mv</td>\n      <td>1538573263</td>\n      <td>0</td>\n      <td>{'gid_1': 0, 'gid_2': 0, 'gid_3': 0}</td>\n      <td>cringepics</td>\n      <td>False</td>\n      <td>/r/cringepics/comments/9c4wc2/mr_hands_over_he...</td>\n      <td></td>\n      <td>1.81774</td>\n    </tr>\n    <tr>\n      <th>e5jmfq9</th>\n      <td>1536306421</td>\n      <td>The thing is youtube claims system is not base...</td>\n      <td>Ekint</td>\n      <td>e5iivyl</td>\n      <td>9dixh1</td>\n      <td>1</td>\n      <td>e5ibybt</td>\n      <td>1538770435</td>\n      <td>0</td>\n      <td>{'gid_1': 0, 'gid_2': 0, 'gid_3': 0}</td>\n      <td>Music</td>\n      <td>False</td>\n      <td>/r/Music/comments/9dixh1/the_future_is_here_to...</td>\n      <td></td>\n      <td>1.82878</td>\n    </tr>\n    <tr>\n      <th>e5lyy7b</th>\n      <td>1536412777</td>\n      <td>Is there something for me to drink but only ha...</td>\n      <td>parrot_in_hell</td>\n      <td>e5k5np8</td>\n      <td>9durlp</td>\n      <td>1</td>\n      <td>e5k5np8</td>\n      <td>1538831861</td>\n      <td>0</td>\n      <td>{'gid_1': 0, 'gid_2': 0, 'gid_3': 0}</td>\n      <td>explainlikeimfive</td>\n      <td>False</td>\n      <td>/r/explainlikeimfive/comments/9durlp/eli5_caff...</td>\n      <td></td>\n      <td>1.83889</td>\n    </tr>\n    <tr>\n      <th>e5kg6go</th>\n      <td>1536342368</td>\n      <td>Adding to this; the crash you feel after the c...</td>\n      <td>Spider-Ian</td>\n      <td>e5k5np8</td>\n      <td>9durlp</td>\n      <td>1</td>\n      <td>e5k5np8</td>\n      <td>1538798451</td>\n      <td>0</td>\n      <td>{'gid_1': 0, 'gid_2': 0, 'gid_3': 0}</td>\n      <td>explainlikeimfive</td>\n      <td>False</td>\n      <td>/r/explainlikeimfive/comments/9durlp/eli5_caff...</td>\n      <td></td>\n      <td>1.86629</td>\n    </tr>\n    <tr>\n      <th>e5qm7tu</th>\n      <td>1536606025</td>\n      <td>We had international students from China when ...</td>\n      <td>TheProphecyIsNigh</td>\n      <td>e5q8q50</td>\n      <td>9enmff</td>\n      <td>1</td>\n      <td>e5q8q50</td>\n      <td>1538910016</td>\n      <td>0</td>\n      <td>{'gid_1': 0, 'gid_2': 0, 'gid_3': 0}</td>\n      <td>todayilearned</td>\n      <td>False</td>\n      <td>/r/todayilearned/comments/9enmff/til_that_chea...</td>\n      <td></td>\n      <td>1.87036</td>\n    </tr>\n  </tbody>\n</table>\n</div>"
     },
     "metadata": {},
     "execution_count": 15
    }
   ],
   "source": [
    "transformed_corpus.get_utterances_dataframe().sort_values('meta.surprise').head(10)"
   ]
  },
  {
   "source": [
    "## Example 2: How surprising is a conversation compared to other conversations in a corpus?"
   ],
   "cell_type": "markdown",
   "metadata": {}
  },
  {
   "source": [
    "To speed up this demo, let's take a look at just the top 100 conversations with the most utterances."
   ],
   "cell_type": "markdown",
   "metadata": {}
  },
  {
   "cell_type": "code",
   "execution_count": 3,
   "metadata": {},
   "outputs": [],
   "source": [
    "utterances = corpus.get_utterances_dataframe()\n",
    "top_convos = set(utterances.groupby('conversation_id').apply(len).sort_values(ascending=False)[:100].index)"
   ]
  },
  {
   "cell_type": "code",
   "execution_count": 4,
   "metadata": {},
   "outputs": [
    {
     "output_type": "stream",
     "name": "stdout",
     "text": [
      "Number of Speakers: 25309\nNumber of Utterances: 51704\nNumber of Conversations: 100\n"
     ]
    }
   ],
   "source": [
    "subset_corpus = corpus.filter_utterances_by(lambda utt: utt.text and utt.conversation_id in top_convos)\n",
    "subset_corpus.print_summary_stats()"
   ]
  },
  {
   "cell_type": "code",
   "execution_count": 5,
   "metadata": {},
   "outputs": [],
   "source": [
    "transformer = Surprise(target_sample_size=200, context_sample_size=1000, n_samples=50)"
   ]
  },
  {
   "cell_type": "code",
   "execution_count": 6,
   "metadata": {},
   "outputs": [
    {
     "output_type": "execute_result",
     "data": {
      "text/plain": [
       "<convokit.surprise.surprise.Surprise at 0x1f1e625eac8>"
      ]
     },
     "metadata": {},
     "execution_count": 6
    }
   ],
   "source": [
    "transformer.fit(corpus, group_models_by=[])"
   ]
  },
  {
   "source": [
    "Let's add the surprise score to conversations instead of utterances for this example."
   ],
   "cell_type": "markdown",
   "metadata": {}
  },
  {
   "cell_type": "code",
   "execution_count": 7,
   "metadata": {},
   "outputs": [],
   "source": [
    "transformed_corpus = transformer.transform(subset_corpus, 'conversation', group_target_by=['conversation'], context_selector=lambda s,t: s.index.get_level_values('conversation_id') != t[0], model_selector=lambda ind: 0)"
   ]
  },
  {
   "cell_type": "code",
   "execution_count": 8,
   "metadata": {},
   "outputs": [
    {
     "output_type": "execute_result",
     "data": {
      "text/plain": [
       "       vectors                                         meta.title  \\\n",
       "id                                                                  \n",
       "9euhs0      []    TIFU by uploading my old exams on the internet.   \n",
       "9guiia      []  TIFU by making a joke and losing the right to ...   \n",
       "9c4wc2      []  Mr. Hands over here. On a NATIONALLY televised...   \n",
       "9frcxa      []  A doctor who raped a sedated female patient ge...   \n",
       "9fsct8      []           A new political party emerges in Canada!   \n",
       "...        ...                                                ...   \n",
       "9k1ydy      []                           Tesla Model 3 Tricks Cop   \n",
       "9hqq07      []  The difference between my rice cooking skills ...   \n",
       "9clbf7      []  What common item has a feature that most peopl...   \n",
       "9fhecm      []  What main character didn't deserve a happy end...   \n",
       "9d6ltc      []  A word on Freedom of speech, from Colin Kaeper...   \n",
       "\n",
       "       meta.num_comments              meta.domain meta.timestamp  \\\n",
       "id                                                                 \n",
       "9euhs0              2174                self.tifu     1536640834   \n",
       "9guiia              2578                self.tifu     1537274818   \n",
       "9c4wc2              3945                i.redd.it     1535823104   \n",
       "9frcxa              1661           abcnews.go.com     1536926142   \n",
       "9fsct8              2724  peoplespartyofcanada.ca     1536934540   \n",
       "...                  ...                      ...            ...   \n",
       "9k1ydy              3102                 youtu.be     1538267436   \n",
       "9hqq07              1150                v.redd.it     1537541836   \n",
       "9clbf7             21181           self.AskReddit     1535979914   \n",
       "9fhecm             19197           self.AskReddit     1536840424   \n",
       "9d6ltc               447              magaimg.net     1536154583   \n",
       "\n",
       "         meta.subreddit meta.gilded                         meta.gildings  \\\n",
       "id                                                                          \n",
       "9euhs0             tifu           0  {'gid_1': 0, 'gid_2': 0, 'gid_3': 0}   \n",
       "9guiia             tifu           5  {'gid_1': 0, 'gid_2': 5, 'gid_3': 0}   \n",
       "9c4wc2       cringepics           0  {'gid_1': 0, 'gid_2': 0, 'gid_3': 0}   \n",
       "9frcxa  TwoXChromosomes           0  {'gid_1': 0, 'gid_2': 0, 'gid_3': 0}   \n",
       "9fsct8           canada           0  {'gid_1': 0, 'gid_2': 0, 'gid_3': 0}   \n",
       "...                 ...         ...                                   ...   \n",
       "9k1ydy           videos           0  {'gid_1': 0, 'gid_2': 0, 'gid_3': 0}   \n",
       "9hqq07            funny           0  {'gid_1': 0, 'gid_2': 0, 'gid_3': 0}   \n",
       "9clbf7        AskReddit           1  {'gid_1': 0, 'gid_2': 1, 'gid_3': 0}   \n",
       "9fhecm        AskReddit           0  {'gid_1': 0, 'gid_2': 0, 'gid_3': 0}   \n",
       "9d6ltc      Libertarian           0  {'gid_1': 0, 'gid_2': 0, 'gid_3': 0}   \n",
       "\n",
       "       meta.stickied meta.author_flair_text meta.surprise  \n",
       "id                                                         \n",
       "9euhs0         False                               1.9154  \n",
       "9guiia         False        FUOTW 9/16/2018       1.98383  \n",
       "9c4wc2         False                                1.958  \n",
       "9frcxa         False                               1.6775  \n",
       "9fsct8         False                              2.06906  \n",
       "...              ...                    ...           ...  \n",
       "9k1ydy         False                              2.02866  \n",
       "9hqq07         False                              2.30393  \n",
       "9clbf7         False                              2.21341  \n",
       "9fhecm         False                              1.94239  \n",
       "9d6ltc         False             minarchist       2.05252  \n",
       "\n",
       "[100 rows x 11 columns]"
      ],
      "text/html": "<div>\n<style scoped>\n    .dataframe tbody tr th:only-of-type {\n        vertical-align: middle;\n    }\n\n    .dataframe tbody tr th {\n        vertical-align: top;\n    }\n\n    .dataframe thead th {\n        text-align: right;\n    }\n</style>\n<table border=\"1\" class=\"dataframe\">\n  <thead>\n    <tr style=\"text-align: right;\">\n      <th></th>\n      <th>vectors</th>\n      <th>meta.title</th>\n      <th>meta.num_comments</th>\n      <th>meta.domain</th>\n      <th>meta.timestamp</th>\n      <th>meta.subreddit</th>\n      <th>meta.gilded</th>\n      <th>meta.gildings</th>\n      <th>meta.stickied</th>\n      <th>meta.author_flair_text</th>\n      <th>meta.surprise</th>\n    </tr>\n    <tr>\n      <th>id</th>\n      <th></th>\n      <th></th>\n      <th></th>\n      <th></th>\n      <th></th>\n      <th></th>\n      <th></th>\n      <th></th>\n      <th></th>\n      <th></th>\n      <th></th>\n    </tr>\n  </thead>\n  <tbody>\n    <tr>\n      <th>9euhs0</th>\n      <td>[]</td>\n      <td>TIFU by uploading my old exams on the internet.</td>\n      <td>2174</td>\n      <td>self.tifu</td>\n      <td>1536640834</td>\n      <td>tifu</td>\n      <td>0</td>\n      <td>{'gid_1': 0, 'gid_2': 0, 'gid_3': 0}</td>\n      <td>False</td>\n      <td></td>\n      <td>1.9154</td>\n    </tr>\n    <tr>\n      <th>9guiia</th>\n      <td>[]</td>\n      <td>TIFU by making a joke and losing the right to ...</td>\n      <td>2578</td>\n      <td>self.tifu</td>\n      <td>1537274818</td>\n      <td>tifu</td>\n      <td>5</td>\n      <td>{'gid_1': 0, 'gid_2': 5, 'gid_3': 0}</td>\n      <td>False</td>\n      <td>FUOTW 9/16/2018</td>\n      <td>1.98383</td>\n    </tr>\n    <tr>\n      <th>9c4wc2</th>\n      <td>[]</td>\n      <td>Mr. Hands over here. On a NATIONALLY televised...</td>\n      <td>3945</td>\n      <td>i.redd.it</td>\n      <td>1535823104</td>\n      <td>cringepics</td>\n      <td>0</td>\n      <td>{'gid_1': 0, 'gid_2': 0, 'gid_3': 0}</td>\n      <td>False</td>\n      <td></td>\n      <td>1.958</td>\n    </tr>\n    <tr>\n      <th>9frcxa</th>\n      <td>[]</td>\n      <td>A doctor who raped a sedated female patient ge...</td>\n      <td>1661</td>\n      <td>abcnews.go.com</td>\n      <td>1536926142</td>\n      <td>TwoXChromosomes</td>\n      <td>0</td>\n      <td>{'gid_1': 0, 'gid_2': 0, 'gid_3': 0}</td>\n      <td>False</td>\n      <td></td>\n      <td>1.6775</td>\n    </tr>\n    <tr>\n      <th>9fsct8</th>\n      <td>[]</td>\n      <td>A new political party emerges in Canada!</td>\n      <td>2724</td>\n      <td>peoplespartyofcanada.ca</td>\n      <td>1536934540</td>\n      <td>canada</td>\n      <td>0</td>\n      <td>{'gid_1': 0, 'gid_2': 0, 'gid_3': 0}</td>\n      <td>False</td>\n      <td></td>\n      <td>2.06906</td>\n    </tr>\n    <tr>\n      <th>...</th>\n      <td>...</td>\n      <td>...</td>\n      <td>...</td>\n      <td>...</td>\n      <td>...</td>\n      <td>...</td>\n      <td>...</td>\n      <td>...</td>\n      <td>...</td>\n      <td>...</td>\n      <td>...</td>\n    </tr>\n    <tr>\n      <th>9k1ydy</th>\n      <td>[]</td>\n      <td>Tesla Model 3 Tricks Cop</td>\n      <td>3102</td>\n      <td>youtu.be</td>\n      <td>1538267436</td>\n      <td>videos</td>\n      <td>0</td>\n      <td>{'gid_1': 0, 'gid_2': 0, 'gid_3': 0}</td>\n      <td>False</td>\n      <td></td>\n      <td>2.02866</td>\n    </tr>\n    <tr>\n      <th>9hqq07</th>\n      <td>[]</td>\n      <td>The difference between my rice cooking skills ...</td>\n      <td>1150</td>\n      <td>v.redd.it</td>\n      <td>1537541836</td>\n      <td>funny</td>\n      <td>0</td>\n      <td>{'gid_1': 0, 'gid_2': 0, 'gid_3': 0}</td>\n      <td>False</td>\n      <td></td>\n      <td>2.30393</td>\n    </tr>\n    <tr>\n      <th>9clbf7</th>\n      <td>[]</td>\n      <td>What common item has a feature that most peopl...</td>\n      <td>21181</td>\n      <td>self.AskReddit</td>\n      <td>1535979914</td>\n      <td>AskReddit</td>\n      <td>1</td>\n      <td>{'gid_1': 0, 'gid_2': 1, 'gid_3': 0}</td>\n      <td>False</td>\n      <td></td>\n      <td>2.21341</td>\n    </tr>\n    <tr>\n      <th>9fhecm</th>\n      <td>[]</td>\n      <td>What main character didn't deserve a happy end...</td>\n      <td>19197</td>\n      <td>self.AskReddit</td>\n      <td>1536840424</td>\n      <td>AskReddit</td>\n      <td>0</td>\n      <td>{'gid_1': 0, 'gid_2': 0, 'gid_3': 0}</td>\n      <td>False</td>\n      <td></td>\n      <td>1.94239</td>\n    </tr>\n    <tr>\n      <th>9d6ltc</th>\n      <td>[]</td>\n      <td>A word on Freedom of speech, from Colin Kaeper...</td>\n      <td>447</td>\n      <td>magaimg.net</td>\n      <td>1536154583</td>\n      <td>Libertarian</td>\n      <td>0</td>\n      <td>{'gid_1': 0, 'gid_2': 0, 'gid_3': 0}</td>\n      <td>False</td>\n      <td>minarchist</td>\n      <td>2.05252</td>\n    </tr>\n  </tbody>\n</table>\n<p>100 rows × 11 columns</p>\n</div>"
     },
     "metadata": {},
     "execution_count": 8
    }
   ],
   "source": [
    "transformed_corpus.get_conversations_dataframe()"
   ]
  },
  {
   "cell_type": "code",
   "execution_count": 9,
   "metadata": {},
   "outputs": [
    {
     "output_type": "execute_result",
     "data": {
      "text/plain": [
       "       vectors                                         meta.title  \\\n",
       "id                                                                  \n",
       "9ee5jm      []  One of the unspoken (and worst) parts of flood...   \n",
       "9fbcix      []                        Reddit bans QAnon subreddit   \n",
       "9k5lj5      []                      A perfect salt crystal I grew   \n",
       "9itdw9      []  ELI5: How do we know counting rings in a tree ...   \n",
       "9fwk4s      []  TIL: \"He never married\" was a commonly used by...   \n",
       "9fr0z3      []  In Deadpool 2 Wade tells the Juggernaut \"It ha...   \n",
       "9cjvjq      []  ELI5: Why do flies \"like\" us? What do they fin...   \n",
       "9gj8zs      []  Daily exposure to BPA in amounts that are FDA-...   \n",
       "9jv6hs      []  Evidence that increased BMI causes lower menta...   \n",
       "9iwh3d      []  Do (fighter) airplanes really have an onboard ...   \n",
       "\n",
       "       meta.num_comments             meta.domain meta.timestamp  \\\n",
       "id                                                                \n",
       "9ee5jm              2296               i.redd.it     1536509657   \n",
       "9fbcix              3250             thehill.com     1536783754   \n",
       "9k5lj5              1276               imgur.com     1538306149   \n",
       "9itdw9               391  self.explainlikeimfive     1537891192   \n",
       "9fwk4s              1778        en.wikipedia.org     1536964885   \n",
       "9fr0z3               608               i.redd.it     1536922840   \n",
       "9cjvjq              1365  self.explainlikeimfive     1535964567   \n",
       "9gj8zs               672     munews.missouri.edu     1537181188   \n",
       "9jv6hs              2759           bristol.ac.uk     1538212546   \n",
       "9iwh3d               849         self.askscience     1537912286   \n",
       "\n",
       "           meta.subreddit meta.gilded                         meta.gildings  \\\n",
       "id                                                                            \n",
       "9ee5jm                WTF           0  {'gid_1': 0, 'gid_2': 0, 'gid_3': 0}   \n",
       "9fbcix         technology           0  {'gid_1': 0, 'gid_2': 0, 'gid_3': 0}   \n",
       "9k5lj5               pics           1  {'gid_1': 0, 'gid_2': 1, 'gid_3': 0}   \n",
       "9itdw9  explainlikeimfive           0  {'gid_1': 0, 'gid_2': 0, 'gid_3': 0}   \n",
       "9fwk4s      todayilearned           0  {'gid_1': 0, 'gid_2': 0, 'gid_3': 0}   \n",
       "9fr0z3       MovieDetails           0  {'gid_1': 0, 'gid_2': 0, 'gid_3': 0}   \n",
       "9cjvjq  explainlikeimfive           0  {'gid_1': 0, 'gid_2': 0, 'gid_3': 0}   \n",
       "9gj8zs            science           0  {'gid_1': 0, 'gid_2': 0, 'gid_3': 0}   \n",
       "9jv6hs            science           0  {'gid_1': 0, 'gid_2': 0, 'gid_3': 0}   \n",
       "9iwh3d         askscience           0  {'gid_1': 0, 'gid_2': 0, 'gid_3': 0}   \n",
       "\n",
       "       meta.stickied                    meta.author_flair_text meta.surprise  \n",
       "id                                                                            \n",
       "9ee5jm         False                                                  2.6405  \n",
       "9fbcix         False                                                 2.49026  \n",
       "9k5lj5         False                                                 2.46831  \n",
       "9itdw9         False                                                 2.44398  \n",
       "9fwk4s         False                                                 2.44116  \n",
       "9fr0z3         False                                                 2.40241  \n",
       "9cjvjq         False                                                 2.40004  \n",
       "9gj8zs         False  MD-PhD-MBA | Clinical Professor/Medicine       2.38835  \n",
       "9jv6hs         False                                                 2.38065  \n",
       "9iwh3d         False                                                 2.37034  "
      ],
      "text/html": "<div>\n<style scoped>\n    .dataframe tbody tr th:only-of-type {\n        vertical-align: middle;\n    }\n\n    .dataframe tbody tr th {\n        vertical-align: top;\n    }\n\n    .dataframe thead th {\n        text-align: right;\n    }\n</style>\n<table border=\"1\" class=\"dataframe\">\n  <thead>\n    <tr style=\"text-align: right;\">\n      <th></th>\n      <th>vectors</th>\n      <th>meta.title</th>\n      <th>meta.num_comments</th>\n      <th>meta.domain</th>\n      <th>meta.timestamp</th>\n      <th>meta.subreddit</th>\n      <th>meta.gilded</th>\n      <th>meta.gildings</th>\n      <th>meta.stickied</th>\n      <th>meta.author_flair_text</th>\n      <th>meta.surprise</th>\n    </tr>\n    <tr>\n      <th>id</th>\n      <th></th>\n      <th></th>\n      <th></th>\n      <th></th>\n      <th></th>\n      <th></th>\n      <th></th>\n      <th></th>\n      <th></th>\n      <th></th>\n      <th></th>\n    </tr>\n  </thead>\n  <tbody>\n    <tr>\n      <th>9ee5jm</th>\n      <td>[]</td>\n      <td>One of the unspoken (and worst) parts of flood...</td>\n      <td>2296</td>\n      <td>i.redd.it</td>\n      <td>1536509657</td>\n      <td>WTF</td>\n      <td>0</td>\n      <td>{'gid_1': 0, 'gid_2': 0, 'gid_3': 0}</td>\n      <td>False</td>\n      <td></td>\n      <td>2.6405</td>\n    </tr>\n    <tr>\n      <th>9fbcix</th>\n      <td>[]</td>\n      <td>Reddit bans QAnon subreddit</td>\n      <td>3250</td>\n      <td>thehill.com</td>\n      <td>1536783754</td>\n      <td>technology</td>\n      <td>0</td>\n      <td>{'gid_1': 0, 'gid_2': 0, 'gid_3': 0}</td>\n      <td>False</td>\n      <td></td>\n      <td>2.49026</td>\n    </tr>\n    <tr>\n      <th>9k5lj5</th>\n      <td>[]</td>\n      <td>A perfect salt crystal I grew</td>\n      <td>1276</td>\n      <td>imgur.com</td>\n      <td>1538306149</td>\n      <td>pics</td>\n      <td>1</td>\n      <td>{'gid_1': 0, 'gid_2': 1, 'gid_3': 0}</td>\n      <td>False</td>\n      <td></td>\n      <td>2.46831</td>\n    </tr>\n    <tr>\n      <th>9itdw9</th>\n      <td>[]</td>\n      <td>ELI5: How do we know counting rings in a tree ...</td>\n      <td>391</td>\n      <td>self.explainlikeimfive</td>\n      <td>1537891192</td>\n      <td>explainlikeimfive</td>\n      <td>0</td>\n      <td>{'gid_1': 0, 'gid_2': 0, 'gid_3': 0}</td>\n      <td>False</td>\n      <td></td>\n      <td>2.44398</td>\n    </tr>\n    <tr>\n      <th>9fwk4s</th>\n      <td>[]</td>\n      <td>TIL: \"He never married\" was a commonly used by...</td>\n      <td>1778</td>\n      <td>en.wikipedia.org</td>\n      <td>1536964885</td>\n      <td>todayilearned</td>\n      <td>0</td>\n      <td>{'gid_1': 0, 'gid_2': 0, 'gid_3': 0}</td>\n      <td>False</td>\n      <td></td>\n      <td>2.44116</td>\n    </tr>\n    <tr>\n      <th>9fr0z3</th>\n      <td>[]</td>\n      <td>In Deadpool 2 Wade tells the Juggernaut \"It ha...</td>\n      <td>608</td>\n      <td>i.redd.it</td>\n      <td>1536922840</td>\n      <td>MovieDetails</td>\n      <td>0</td>\n      <td>{'gid_1': 0, 'gid_2': 0, 'gid_3': 0}</td>\n      <td>False</td>\n      <td></td>\n      <td>2.40241</td>\n    </tr>\n    <tr>\n      <th>9cjvjq</th>\n      <td>[]</td>\n      <td>ELI5: Why do flies \"like\" us? What do they fin...</td>\n      <td>1365</td>\n      <td>self.explainlikeimfive</td>\n      <td>1535964567</td>\n      <td>explainlikeimfive</td>\n      <td>0</td>\n      <td>{'gid_1': 0, 'gid_2': 0, 'gid_3': 0}</td>\n      <td>False</td>\n      <td></td>\n      <td>2.40004</td>\n    </tr>\n    <tr>\n      <th>9gj8zs</th>\n      <td>[]</td>\n      <td>Daily exposure to BPA in amounts that are FDA-...</td>\n      <td>672</td>\n      <td>munews.missouri.edu</td>\n      <td>1537181188</td>\n      <td>science</td>\n      <td>0</td>\n      <td>{'gid_1': 0, 'gid_2': 0, 'gid_3': 0}</td>\n      <td>False</td>\n      <td>MD-PhD-MBA | Clinical Professor/Medicine</td>\n      <td>2.38835</td>\n    </tr>\n    <tr>\n      <th>9jv6hs</th>\n      <td>[]</td>\n      <td>Evidence that increased BMI causes lower menta...</td>\n      <td>2759</td>\n      <td>bristol.ac.uk</td>\n      <td>1538212546</td>\n      <td>science</td>\n      <td>0</td>\n      <td>{'gid_1': 0, 'gid_2': 0, 'gid_3': 0}</td>\n      <td>False</td>\n      <td></td>\n      <td>2.38065</td>\n    </tr>\n    <tr>\n      <th>9iwh3d</th>\n      <td>[]</td>\n      <td>Do (fighter) airplanes really have an onboard ...</td>\n      <td>849</td>\n      <td>self.askscience</td>\n      <td>1537912286</td>\n      <td>askscience</td>\n      <td>0</td>\n      <td>{'gid_1': 0, 'gid_2': 0, 'gid_3': 0}</td>\n      <td>False</td>\n      <td></td>\n      <td>2.37034</td>\n    </tr>\n  </tbody>\n</table>\n</div>"
     },
     "metadata": {},
     "execution_count": 9
    }
   ],
   "source": [
    "transformed_corpus.get_conversations_dataframe().sort_values('meta.surprise', ascending=False).head(10)"
   ]
  },
  {
   "cell_type": "code",
   "execution_count": 10,
   "metadata": {},
   "outputs": [
    {
     "output_type": "execute_result",
     "data": {
      "text/plain": [
       "       vectors                                         meta.title  \\\n",
       "id                                                                  \n",
       "9h71xy      []  Comment the name of a book that you've been on...   \n",
       "9ijdc4      []  To all theists: What would it take to change y...   \n",
       "9frcxa      []  A doctor who raped a sedated female patient ge...   \n",
       "9k3jbf      []  Voters Are Trading Honesty for Loyalty - Novel...   \n",
       "9h5oi0      []  I'm a Catholic Bishop and Philosopher Who Love...   \n",
       "9ijtbj      []  I am Alexandria Brown, a dominatrix who recent...   \n",
       "9jmdvl      []  Rape Allegations: American Woman Files Complai...   \n",
       "9jka5q      []  Sen. Klobuchar asks if Kavanaugh has a drinkin...   \n",
       "9c2qhd      []  Have you ever read the first page or two of a ...   \n",
       "9g0vnj      []  If numbers can be infinitely large, can they a...   \n",
       "\n",
       "       meta.num_comments          meta.domain meta.timestamp   meta.subreddit  \\\n",
       "id                                                                              \n",
       "9h71xy              3025           self.books     1537377232            books   \n",
       "9ijdc4               656  self.DebateReligion     1537806262   DebateReligion   \n",
       "9frcxa              1661       abcnews.go.com     1536926142  TwoXChromosomes   \n",
       "9k3jbf              1609        bloomberg.com     1538282407          science   \n",
       "9h5oi0             11925            self.IAmA     1537367736             IAmA   \n",
       "9ijtbj              2501            self.IAmA     1537809195             IAmA   \n",
       "9jmdvl              3603           spiegel.de     1538136446           soccer   \n",
       "9jka5q              1733          youtube.com     1538112540           cringe   \n",
       "9c2qhd              3326           self.books     1535805464            books   \n",
       "9g0vnj               913      self.askscience     1537012141       askscience   \n",
       "\n",
       "       meta.gilded                         meta.gildings meta.stickied  \\\n",
       "id                                                                       \n",
       "9h71xy           0  {'gid_1': 0, 'gid_2': 0, 'gid_3': 0}         False   \n",
       "9ijdc4           0  {'gid_1': 0, 'gid_2': 0, 'gid_3': 0}         False   \n",
       "9frcxa           0  {'gid_1': 0, 'gid_2': 0, 'gid_3': 0}         False   \n",
       "9k3jbf           1  {'gid_1': 0, 'gid_2': 1, 'gid_3': 0}         False   \n",
       "9h5oi0           2  {'gid_1': 0, 'gid_2': 2, 'gid_3': 0}         False   \n",
       "9ijtbj           0  {'gid_1': 0, 'gid_2': 0, 'gid_3': 0}         False   \n",
       "9jmdvl           0  {'gid_1': 0, 'gid_2': 0, 'gid_3': 0}         False   \n",
       "9jka5q           0  {'gid_1': 0, 'gid_2': 0, 'gid_3': 0}         False   \n",
       "9c2qhd           0  {'gid_1': 0, 'gid_2': 0, 'gid_3': 0}         False   \n",
       "9g0vnj           0  {'gid_1': 0, 'gid_2': 0, 'gid_3': 0}         False   \n",
       "\n",
       "                          meta.author_flair_text meta.surprise  \n",
       "id                                                              \n",
       "9h71xy                                                 1.65027  \n",
       "9ijdc4                                                 1.67559  \n",
       "9frcxa                                                  1.6775  \n",
       "9k3jbf  MD-PhD-MBA | Clinical Professor/Medicine       1.80085  \n",
       "9h5oi0                                                 1.81484  \n",
       "9ijtbj                                                 1.88119  \n",
       "9jmdvl                         Borussia Dortmund       1.88558  \n",
       "9jka5q                                                 1.88843  \n",
       "9c2qhd                                                 1.89343  \n",
       "9g0vnj                                                 1.90237  "
      ],
      "text/html": "<div>\n<style scoped>\n    .dataframe tbody tr th:only-of-type {\n        vertical-align: middle;\n    }\n\n    .dataframe tbody tr th {\n        vertical-align: top;\n    }\n\n    .dataframe thead th {\n        text-align: right;\n    }\n</style>\n<table border=\"1\" class=\"dataframe\">\n  <thead>\n    <tr style=\"text-align: right;\">\n      <th></th>\n      <th>vectors</th>\n      <th>meta.title</th>\n      <th>meta.num_comments</th>\n      <th>meta.domain</th>\n      <th>meta.timestamp</th>\n      <th>meta.subreddit</th>\n      <th>meta.gilded</th>\n      <th>meta.gildings</th>\n      <th>meta.stickied</th>\n      <th>meta.author_flair_text</th>\n      <th>meta.surprise</th>\n    </tr>\n    <tr>\n      <th>id</th>\n      <th></th>\n      <th></th>\n      <th></th>\n      <th></th>\n      <th></th>\n      <th></th>\n      <th></th>\n      <th></th>\n      <th></th>\n      <th></th>\n      <th></th>\n    </tr>\n  </thead>\n  <tbody>\n    <tr>\n      <th>9h71xy</th>\n      <td>[]</td>\n      <td>Comment the name of a book that you've been on...</td>\n      <td>3025</td>\n      <td>self.books</td>\n      <td>1537377232</td>\n      <td>books</td>\n      <td>0</td>\n      <td>{'gid_1': 0, 'gid_2': 0, 'gid_3': 0}</td>\n      <td>False</td>\n      <td></td>\n      <td>1.65027</td>\n    </tr>\n    <tr>\n      <th>9ijdc4</th>\n      <td>[]</td>\n      <td>To all theists: What would it take to change y...</td>\n      <td>656</td>\n      <td>self.DebateReligion</td>\n      <td>1537806262</td>\n      <td>DebateReligion</td>\n      <td>0</td>\n      <td>{'gid_1': 0, 'gid_2': 0, 'gid_3': 0}</td>\n      <td>False</td>\n      <td></td>\n      <td>1.67559</td>\n    </tr>\n    <tr>\n      <th>9frcxa</th>\n      <td>[]</td>\n      <td>A doctor who raped a sedated female patient ge...</td>\n      <td>1661</td>\n      <td>abcnews.go.com</td>\n      <td>1536926142</td>\n      <td>TwoXChromosomes</td>\n      <td>0</td>\n      <td>{'gid_1': 0, 'gid_2': 0, 'gid_3': 0}</td>\n      <td>False</td>\n      <td></td>\n      <td>1.6775</td>\n    </tr>\n    <tr>\n      <th>9k3jbf</th>\n      <td>[]</td>\n      <td>Voters Are Trading Honesty for Loyalty - Novel...</td>\n      <td>1609</td>\n      <td>bloomberg.com</td>\n      <td>1538282407</td>\n      <td>science</td>\n      <td>1</td>\n      <td>{'gid_1': 0, 'gid_2': 1, 'gid_3': 0}</td>\n      <td>False</td>\n      <td>MD-PhD-MBA | Clinical Professor/Medicine</td>\n      <td>1.80085</td>\n    </tr>\n    <tr>\n      <th>9h5oi0</th>\n      <td>[]</td>\n      <td>I'm a Catholic Bishop and Philosopher Who Love...</td>\n      <td>11925</td>\n      <td>self.IAmA</td>\n      <td>1537367736</td>\n      <td>IAmA</td>\n      <td>2</td>\n      <td>{'gid_1': 0, 'gid_2': 2, 'gid_3': 0}</td>\n      <td>False</td>\n      <td></td>\n      <td>1.81484</td>\n    </tr>\n    <tr>\n      <th>9ijtbj</th>\n      <td>[]</td>\n      <td>I am Alexandria Brown, a dominatrix who recent...</td>\n      <td>2501</td>\n      <td>self.IAmA</td>\n      <td>1537809195</td>\n      <td>IAmA</td>\n      <td>0</td>\n      <td>{'gid_1': 0, 'gid_2': 0, 'gid_3': 0}</td>\n      <td>False</td>\n      <td></td>\n      <td>1.88119</td>\n    </tr>\n    <tr>\n      <th>9jmdvl</th>\n      <td>[]</td>\n      <td>Rape Allegations: American Woman Files Complai...</td>\n      <td>3603</td>\n      <td>spiegel.de</td>\n      <td>1538136446</td>\n      <td>soccer</td>\n      <td>0</td>\n      <td>{'gid_1': 0, 'gid_2': 0, 'gid_3': 0}</td>\n      <td>False</td>\n      <td>Borussia Dortmund</td>\n      <td>1.88558</td>\n    </tr>\n    <tr>\n      <th>9jka5q</th>\n      <td>[]</td>\n      <td>Sen. Klobuchar asks if Kavanaugh has a drinkin...</td>\n      <td>1733</td>\n      <td>youtube.com</td>\n      <td>1538112540</td>\n      <td>cringe</td>\n      <td>0</td>\n      <td>{'gid_1': 0, 'gid_2': 0, 'gid_3': 0}</td>\n      <td>False</td>\n      <td></td>\n      <td>1.88843</td>\n    </tr>\n    <tr>\n      <th>9c2qhd</th>\n      <td>[]</td>\n      <td>Have you ever read the first page or two of a ...</td>\n      <td>3326</td>\n      <td>self.books</td>\n      <td>1535805464</td>\n      <td>books</td>\n      <td>0</td>\n      <td>{'gid_1': 0, 'gid_2': 0, 'gid_3': 0}</td>\n      <td>False</td>\n      <td></td>\n      <td>1.89343</td>\n    </tr>\n    <tr>\n      <th>9g0vnj</th>\n      <td>[]</td>\n      <td>If numbers can be infinitely large, can they a...</td>\n      <td>913</td>\n      <td>self.askscience</td>\n      <td>1537012141</td>\n      <td>askscience</td>\n      <td>0</td>\n      <td>{'gid_1': 0, 'gid_2': 0, 'gid_3': 0}</td>\n      <td>False</td>\n      <td></td>\n      <td>1.90237</td>\n    </tr>\n  </tbody>\n</table>\n</div>"
     },
     "metadata": {},
     "execution_count": 10
    }
   ],
   "source": [
    "transformed_corpus.get_conversations_dataframe().sort_values('meta.surprise').head(10)"
   ]
  }
 ]
}