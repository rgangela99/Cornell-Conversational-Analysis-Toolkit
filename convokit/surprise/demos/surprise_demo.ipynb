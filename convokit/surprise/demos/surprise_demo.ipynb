{
 "cells": [
  {
   "source": [
    "Computing Surprise With ConvoKit\n",
    "=====================\n",
    "This notebook provides a demo of how to use the Surprise transformer to compute surprise across a corpus. The transformer currently only allows computation of how surprising a speaker's utterances in one conversation (target) are compared to their utterances in all other conversations (context) in the corpus. Eventually, the functionality of the Surprise transformer will be abstracted to allow for computation of surprise between any target and context types."
   ],
   "cell_type": "markdown",
   "metadata": {}
  },
  {
   "cell_type": "code",
   "execution_count": 1,
   "metadata": {},
   "outputs": [],
   "source": [
    "import convokit\n",
    "import numpy as np\n",
    "from convokit import Corpus, download, Surprise"
   ]
  },
  {
   "source": [
    "Step 1: Load a corpus\n",
    "--------\n",
    "For now, we will use data from the subreddit r/Cornell to demonstrate the functionality of this transformer"
   ],
   "cell_type": "markdown",
   "metadata": {}
  },
  {
   "cell_type": "code",
   "execution_count": 2,
   "metadata": {
    "tags": []
   },
   "outputs": [
    {
     "output_type": "stream",
     "name": "stdout",
     "text": [
      "Dataset already exists at C:\\Users\\rgang\\.convokit\\downloads\\subreddit-Cornell\n"
     ]
    }
   ],
   "source": [
    "corpus = Corpus(filename=download('subreddit-Cornell'))"
   ]
  },
  {
   "cell_type": "code",
   "execution_count": 3,
   "metadata": {
    "tags": []
   },
   "outputs": [
    {
     "output_type": "stream",
     "name": "stdout",
     "text": [
      "Number of Speakers: 7568\nNumber of Utterances: 74467\nNumber of Conversations: 10744\n"
     ]
    }
   ],
   "source": [
    "corpus.print_summary_stats()"
   ]
  },
  {
   "source": [
    "In order to speed up the demo, we will take just the top 100 most active speakers (based on the number of conversations they participate in)."
   ],
   "cell_type": "markdown",
   "metadata": {}
  },
  {
   "source": [
    "SPEAKER_BLACKLIST = ['[deleted]', 'DeltaBot', 'AutoModerator']\n",
    "def utterance_is_valid(utterance):\n",
    "    return utterance.speaker.id not in SPEAKER_BLACKLIST and utterance.text"
   ],
   "cell_type": "code",
   "metadata": {},
   "execution_count": 4,
   "outputs": []
  },
  {
   "cell_type": "code",
   "execution_count": 5,
   "metadata": {
    "tags": []
   },
   "outputs": [],
   "source": [
    "corpus.organize_speaker_convo_history(utterance_filter=utterance_is_valid)"
   ]
  },
  {
   "cell_type": "code",
   "execution_count": 6,
   "metadata": {},
   "outputs": [],
   "source": [
    "speaker_activities = corpus.get_attribute_table('speaker', ['n_convos'])"
   ]
  },
  {
   "cell_type": "code",
   "execution_count": 7,
   "metadata": {},
   "outputs": [
    {
     "output_type": "execute_result",
     "data": {
      "text/plain": [
       "                    n_convos\n",
       "id                          \n",
       "laveritecestla         781.0\n",
       "EQUASHNZRKUL           726.0\n",
       "CornHellUniversity     696.0\n",
       "t3hasiangod            647.0\n",
       "ilovemymemesboo        430.0\n",
       "omgdonerkebab          425.0\n",
       "cartesiancategory      341.0\n",
       "cornell256             330.0\n",
       "mushiettake            321.0\n",
       "Fencerman2             298.0"
      ],
      "text/html": "<div>\n<style scoped>\n    .dataframe tbody tr th:only-of-type {\n        vertical-align: middle;\n    }\n\n    .dataframe tbody tr th {\n        vertical-align: top;\n    }\n\n    .dataframe thead th {\n        text-align: right;\n    }\n</style>\n<table border=\"1\" class=\"dataframe\">\n  <thead>\n    <tr style=\"text-align: right;\">\n      <th></th>\n      <th>n_convos</th>\n    </tr>\n    <tr>\n      <th>id</th>\n      <th></th>\n    </tr>\n  </thead>\n  <tbody>\n    <tr>\n      <th>laveritecestla</th>\n      <td>781.0</td>\n    </tr>\n    <tr>\n      <th>EQUASHNZRKUL</th>\n      <td>726.0</td>\n    </tr>\n    <tr>\n      <th>CornHellUniversity</th>\n      <td>696.0</td>\n    </tr>\n    <tr>\n      <th>t3hasiangod</th>\n      <td>647.0</td>\n    </tr>\n    <tr>\n      <th>ilovemymemesboo</th>\n      <td>430.0</td>\n    </tr>\n    <tr>\n      <th>omgdonerkebab</th>\n      <td>425.0</td>\n    </tr>\n    <tr>\n      <th>cartesiancategory</th>\n      <td>341.0</td>\n    </tr>\n    <tr>\n      <th>cornell256</th>\n      <td>330.0</td>\n    </tr>\n    <tr>\n      <th>mushiettake</th>\n      <td>321.0</td>\n    </tr>\n    <tr>\n      <th>Fencerman2</th>\n      <td>298.0</td>\n    </tr>\n  </tbody>\n</table>\n</div>"
     },
     "metadata": {},
     "execution_count": 7
    }
   ],
   "source": [
    "speaker_activities.sort_values('n_convos', ascending=False).head(10)"
   ]
  },
  {
   "cell_type": "code",
   "execution_count": 8,
   "metadata": {},
   "outputs": [],
   "source": [
    "top_speakers = speaker_activities.sort_values('n_convos', ascending=False).head(100).index"
   ]
  },
  {
   "cell_type": "code",
   "execution_count": 9,
   "metadata": {},
   "outputs": [],
   "source": [
    "import itertools\n",
    "\n",
    "subset_utts = [list(corpus.get_speaker(speaker).iter_utterances()) for speaker in top_speakers]\n",
    "subset_corpus = Corpus(utterances=list(itertools.chain(*subset_utts)))"
   ]
  },
  {
   "cell_type": "code",
   "execution_count": 10,
   "metadata": {
    "tags": []
   },
   "outputs": [
    {
     "output_type": "stream",
     "name": "stdout",
     "text": [
      "Number of Speakers: 100\nNumber of Utterances: 20700\nNumber of Conversations: 6904\n"
     ]
    }
   ],
   "source": [
    "subset_corpus.print_summary_stats()"
   ]
  },
  {
   "source": [
    "Step 2: Create instance of surprise transformer\n",
    "---------------\n",
    "`min_target_length` and `min_context_length` specify the minimum number of tokens that should be in the target and context respectively. If the target or context is too short, the transformer will set the surprise to be `nan`. If we sent these to simply be 1, the most surprising statements tend to just be the very short statements."
   ],
   "cell_type": "markdown",
   "metadata": {}
  },
  {
   "cell_type": "code",
   "execution_count": 11,
   "metadata": {},
   "outputs": [],
   "source": [
    "surp = Surprise(min_target_length=100, min_context_length=100, n_samples=50)"
   ]
  },
  {
   "source": [
    "Step 3: Fit transformer to corpus\n",
    "-----\n"
   ],
   "cell_type": "markdown",
   "metadata": {}
  },
  {
   "cell_type": "code",
   "execution_count": 12,
   "metadata": {},
   "outputs": [],
   "source": [
    "surp = surp.fit(subset_corpus, group_models_by=['speaker'])"
   ]
  },
  {
   "source": [
    "Step 4: Transform corpus\n",
    "--------\n",
    "Currently, this transforms each utterance in the corpus adding a field to its metadata with the calculated surprise."
   ],
   "cell_type": "markdown",
   "metadata": {}
  },
  {
   "cell_type": "code",
   "execution_count": 13,
   "metadata": {
    "tags": []
   },
   "outputs": [],
   "source": [
    "transformed_corpus = surp.transform(subset_corpus, 'utterance', group_target_by=['speaker', 'conversation'], context_selector=lambda s, t: (s.index.get_level_values('speaker') == t[0]) & (s.index.get_level_values('conversation_id') != t[1]), model_selector=lambda ind: ind[0])"
   ]
  },
  {
   "source": [
    "Analysis\n",
    "------\n",
    "Let's take a look at some of the most surprising speaker conversation involvements."
   ],
   "cell_type": "markdown",
   "metadata": {}
  },
  {
   "cell_type": "code",
   "execution_count": 14,
   "metadata": {},
   "outputs": [
    {
     "output_type": "execute_result",
     "data": {
      "text/plain": [
       "          timestamp                                               text  \\\n",
       "id                                                                       \n",
       "dbrix3s  1483037010  BILL BILL BILL BILL BILL BILL BILL BILL BILL B...   \n",
       "dbrnysy  1483043255  Memes aside, I honestly don't know a good answ...   \n",
       "diujudc  1497369546  Fall 2011 Admissions Stats:\\n\\nSchool | Apps |...   \n",
       "cbnqq4d  1376508444  Even better is Tracfone's StraightTalk. They'r...   \n",
       "c5sqkzc  1344908188  Fuck YAF.  And fuck you.  Don't let that hate ...   \n",
       "d5pb24c  1469403847  They should be fine, though there are other op...   \n",
       "d64vv88  1470366925  Eh, I would be hesitant to wear those. From th...   \n",
       "dosp7xl  1508806551  Far above Cayuga's waters,\\nwith its waves of ...   \n",
       "78cb5y   1508806536                                          [removed]   \n",
       "dosp7mm  1508806541  Far above Cayuga's waters,\\nwith its waves of ...   \n",
       "\n",
       "                   speaker reply_to conversation_id meta.score  \\\n",
       "id                                                               \n",
       "dbrix3s    Straight_Derpin  dbqkxgp          5kst5l         22   \n",
       "dbrnysy    Straight_Derpin   5kst5l          5kst5l          2   \n",
       "diujudc         Dr_Narwhal   6h08sg          6h08sg          9   \n",
       "cbnqq4d  arandomaltaccount  cbnjwiu          1kbz4p          1   \n",
       "c5sqkzc      omgdonerkebab    y6cd9           y6cd9          0   \n",
       "d5pb24c        t3hasiangod   4ufm6z          4ufm6z          3   \n",
       "d64vv88        t3hasiangod   4w8d7e          4w8d7e          5   \n",
       "dosp7xl   SwissWatchesOnly  dosp7mm          78cb5y         -2   \n",
       "78cb5y    SwissWatchesOnly     None          78cb5y          0   \n",
       "dosp7mm   SwissWatchesOnly   78cb5y          78cb5y         -1   \n",
       "\n",
       "        meta.top_level_comment meta.retrieved_on meta.gilded meta.gildings  \\\n",
       "id                                                                           \n",
       "dbrix3s                dbqkxgp        1484130862           0          None   \n",
       "dbrnysy                dbrnysy        1484133363           0          None   \n",
       "diujudc                diujudc        1499312897           0          None   \n",
       "cbnqq4d                cbnjwiu        1429829700           0          None   \n",
       "c5sqkzc                c5sqkzc        1429631413           0          None   \n",
       "d5pb24c                d5pb24c        1471654647           0          None   \n",
       "d64vv88                d64vv88        1473230691           0          None   \n",
       "dosp7xl                dosp7mm        1510121623           0          None   \n",
       "78cb5y                    None        1510471733           0          None   \n",
       "dosp7mm                dosp7mm        1510121618           0          None   \n",
       "\n",
       "        meta.subreddit meta.stickied  \\\n",
       "id                                     \n",
       "dbrix3s        Cornell         False   \n",
       "dbrnysy        Cornell         False   \n",
       "diujudc        Cornell         False   \n",
       "cbnqq4d        Cornell         False   \n",
       "c5sqkzc        Cornell         False   \n",
       "d5pb24c        Cornell         False   \n",
       "d64vv88        Cornell         False   \n",
       "dosp7xl        Cornell         False   \n",
       "78cb5y         Cornell         False   \n",
       "dosp7mm        Cornell         False   \n",
       "\n",
       "                                         meta.permalink  \\\n",
       "id                                                        \n",
       "dbrix3s                                                   \n",
       "dbrnysy                                                   \n",
       "diujudc                                                   \n",
       "cbnqq4d                                                   \n",
       "c5sqkzc                                                   \n",
       "d5pb24c                                                   \n",
       "d64vv88                                                   \n",
       "dosp7xl  /r/Cornell/comments/78cb5y/alma_mater/dosp7xl/   \n",
       "78cb5y           /r/Cornell/comments/78cb5y/alma_mater/   \n",
       "dosp7mm  /r/Cornell/comments/78cb5y/alma_mater/dosp7mm/   \n",
       "\n",
       "                 meta.author_flair_text meta.surprise  \n",
       "id                                                     \n",
       "dbrix3s                         CS 2020       5.08828  \n",
       "dbrnysy                         CS 2020       5.08828  \n",
       "diujudc  Physics &amp; Mathematics 2019       4.52956  \n",
       "cbnqq4d                                       4.33434  \n",
       "c5sqkzc                                       4.32641  \n",
       "d5pb24c                                        4.2999  \n",
       "d64vv88                                       4.28591  \n",
       "dosp7xl                                        4.2755  \n",
       "78cb5y                                         4.2755  \n",
       "dosp7mm                                        4.2755  "
      ],
      "text/html": "<div>\n<style scoped>\n    .dataframe tbody tr th:only-of-type {\n        vertical-align: middle;\n    }\n\n    .dataframe tbody tr th {\n        vertical-align: top;\n    }\n\n    .dataframe thead th {\n        text-align: right;\n    }\n</style>\n<table border=\"1\" class=\"dataframe\">\n  <thead>\n    <tr style=\"text-align: right;\">\n      <th></th>\n      <th>timestamp</th>\n      <th>text</th>\n      <th>speaker</th>\n      <th>reply_to</th>\n      <th>conversation_id</th>\n      <th>meta.score</th>\n      <th>meta.top_level_comment</th>\n      <th>meta.retrieved_on</th>\n      <th>meta.gilded</th>\n      <th>meta.gildings</th>\n      <th>meta.subreddit</th>\n      <th>meta.stickied</th>\n      <th>meta.permalink</th>\n      <th>meta.author_flair_text</th>\n      <th>meta.surprise</th>\n    </tr>\n    <tr>\n      <th>id</th>\n      <th></th>\n      <th></th>\n      <th></th>\n      <th></th>\n      <th></th>\n      <th></th>\n      <th></th>\n      <th></th>\n      <th></th>\n      <th></th>\n      <th></th>\n      <th></th>\n      <th></th>\n      <th></th>\n      <th></th>\n    </tr>\n  </thead>\n  <tbody>\n    <tr>\n      <th>dbrix3s</th>\n      <td>1483037010</td>\n      <td>BILL BILL BILL BILL BILL BILL BILL BILL BILL B...</td>\n      <td>Straight_Derpin</td>\n      <td>dbqkxgp</td>\n      <td>5kst5l</td>\n      <td>22</td>\n      <td>dbqkxgp</td>\n      <td>1484130862</td>\n      <td>0</td>\n      <td>None</td>\n      <td>Cornell</td>\n      <td>False</td>\n      <td></td>\n      <td>CS 2020</td>\n      <td>5.08828</td>\n    </tr>\n    <tr>\n      <th>dbrnysy</th>\n      <td>1483043255</td>\n      <td>Memes aside, I honestly don't know a good answ...</td>\n      <td>Straight_Derpin</td>\n      <td>5kst5l</td>\n      <td>5kst5l</td>\n      <td>2</td>\n      <td>dbrnysy</td>\n      <td>1484133363</td>\n      <td>0</td>\n      <td>None</td>\n      <td>Cornell</td>\n      <td>False</td>\n      <td></td>\n      <td>CS 2020</td>\n      <td>5.08828</td>\n    </tr>\n    <tr>\n      <th>diujudc</th>\n      <td>1497369546</td>\n      <td>Fall 2011 Admissions Stats:\\n\\nSchool | Apps |...</td>\n      <td>Dr_Narwhal</td>\n      <td>6h08sg</td>\n      <td>6h08sg</td>\n      <td>9</td>\n      <td>diujudc</td>\n      <td>1499312897</td>\n      <td>0</td>\n      <td>None</td>\n      <td>Cornell</td>\n      <td>False</td>\n      <td></td>\n      <td>Physics &amp;amp; Mathematics 2019</td>\n      <td>4.52956</td>\n    </tr>\n    <tr>\n      <th>cbnqq4d</th>\n      <td>1376508444</td>\n      <td>Even better is Tracfone's StraightTalk. They'r...</td>\n      <td>arandomaltaccount</td>\n      <td>cbnjwiu</td>\n      <td>1kbz4p</td>\n      <td>1</td>\n      <td>cbnjwiu</td>\n      <td>1429829700</td>\n      <td>0</td>\n      <td>None</td>\n      <td>Cornell</td>\n      <td>False</td>\n      <td></td>\n      <td></td>\n      <td>4.33434</td>\n    </tr>\n    <tr>\n      <th>c5sqkzc</th>\n      <td>1344908188</td>\n      <td>Fuck YAF.  And fuck you.  Don't let that hate ...</td>\n      <td>omgdonerkebab</td>\n      <td>y6cd9</td>\n      <td>y6cd9</td>\n      <td>0</td>\n      <td>c5sqkzc</td>\n      <td>1429631413</td>\n      <td>0</td>\n      <td>None</td>\n      <td>Cornell</td>\n      <td>False</td>\n      <td></td>\n      <td></td>\n      <td>4.32641</td>\n    </tr>\n    <tr>\n      <th>d5pb24c</th>\n      <td>1469403847</td>\n      <td>They should be fine, though there are other op...</td>\n      <td>t3hasiangod</td>\n      <td>4ufm6z</td>\n      <td>4ufm6z</td>\n      <td>3</td>\n      <td>d5pb24c</td>\n      <td>1471654647</td>\n      <td>0</td>\n      <td>None</td>\n      <td>Cornell</td>\n      <td>False</td>\n      <td></td>\n      <td></td>\n      <td>4.2999</td>\n    </tr>\n    <tr>\n      <th>d64vv88</th>\n      <td>1470366925</td>\n      <td>Eh, I would be hesitant to wear those. From th...</td>\n      <td>t3hasiangod</td>\n      <td>4w8d7e</td>\n      <td>4w8d7e</td>\n      <td>5</td>\n      <td>d64vv88</td>\n      <td>1473230691</td>\n      <td>0</td>\n      <td>None</td>\n      <td>Cornell</td>\n      <td>False</td>\n      <td></td>\n      <td></td>\n      <td>4.28591</td>\n    </tr>\n    <tr>\n      <th>dosp7xl</th>\n      <td>1508806551</td>\n      <td>Far above Cayuga's waters,\\nwith its waves of ...</td>\n      <td>SwissWatchesOnly</td>\n      <td>dosp7mm</td>\n      <td>78cb5y</td>\n      <td>-2</td>\n      <td>dosp7mm</td>\n      <td>1510121623</td>\n      <td>0</td>\n      <td>None</td>\n      <td>Cornell</td>\n      <td>False</td>\n      <td>/r/Cornell/comments/78cb5y/alma_mater/dosp7xl/</td>\n      <td></td>\n      <td>4.2755</td>\n    </tr>\n    <tr>\n      <th>78cb5y</th>\n      <td>1508806536</td>\n      <td>[removed]</td>\n      <td>SwissWatchesOnly</td>\n      <td>None</td>\n      <td>78cb5y</td>\n      <td>0</td>\n      <td>None</td>\n      <td>1510471733</td>\n      <td>0</td>\n      <td>None</td>\n      <td>Cornell</td>\n      <td>False</td>\n      <td>/r/Cornell/comments/78cb5y/alma_mater/</td>\n      <td></td>\n      <td>4.2755</td>\n    </tr>\n    <tr>\n      <th>dosp7mm</th>\n      <td>1508806541</td>\n      <td>Far above Cayuga's waters,\\nwith its waves of ...</td>\n      <td>SwissWatchesOnly</td>\n      <td>78cb5y</td>\n      <td>78cb5y</td>\n      <td>-1</td>\n      <td>dosp7mm</td>\n      <td>1510121618</td>\n      <td>0</td>\n      <td>None</td>\n      <td>Cornell</td>\n      <td>False</td>\n      <td>/r/Cornell/comments/78cb5y/alma_mater/dosp7mm/</td>\n      <td></td>\n      <td>4.2755</td>\n    </tr>\n  </tbody>\n</table>\n</div>"
     },
     "metadata": {},
     "execution_count": 14
    }
   ],
   "source": [
    "most_surprising = transformed_corpus.get_utterances_dataframe().sort_values('meta.surprise', ascending=False).head(10)\n",
    "most_surprising"
   ]
  },
  {
   "source": [
    "You can see above that utterances with the same speaker and conversation id have the same surprise as expected. Let's remove these duplicate entries so we can see more of the data."
   ],
   "cell_type": "markdown",
   "metadata": {}
  },
  {
   "cell_type": "code",
   "execution_count": 15,
   "metadata": {},
   "outputs": [
    {
     "output_type": "execute_result",
     "data": {
      "text/plain": [
       "          timestamp                                               text  \\\n",
       "id                                                                       \n",
       "dbrix3s  1483037010  BILL BILL BILL BILL BILL BILL BILL BILL BILL B...   \n",
       "diujudc  1497369546  Fall 2011 Admissions Stats:\\n\\nSchool | Apps |...   \n",
       "cbnqq4d  1376508444  Even better is Tracfone's StraightTalk. They'r...   \n",
       "c5sqkzc  1344908188  Fuck YAF.  And fuck you.  Don't let that hate ...   \n",
       "d5pb24c  1469403847  They should be fine, though there are other op...   \n",
       "d64vv88  1470366925  Eh, I would be hesitant to wear those. From th...   \n",
       "dosp7xl  1508806551  Far above Cayuga's waters,\\nwith its waves of ...   \n",
       "deydmud  1489576091  Ah yes, because Newt is so tolerant of those w...   \n",
       "crd4uhk  1431970713  1933 in NY based on wikipedia https://en.wikip...   \n",
       "90nmvb   1532157947  My SHP waiver app got denied, after being appr...   \n",
       "\n",
       "                     speaker reply_to conversation_id meta.score  \\\n",
       "id                                                                 \n",
       "dbrix3s      Straight_Derpin  dbqkxgp          5kst5l         22   \n",
       "diujudc           Dr_Narwhal   6h08sg          6h08sg          9   \n",
       "cbnqq4d    arandomaltaccount  cbnjwiu          1kbz4p          1   \n",
       "c5sqkzc        omgdonerkebab    y6cd9           y6cd9          0   \n",
       "d5pb24c          t3hasiangod   4ufm6z          4ufm6z          3   \n",
       "d64vv88          t3hasiangod   4w8d7e          4w8d7e          5   \n",
       "dosp7xl     SwissWatchesOnly  dosp7mm          78cb5y         -2   \n",
       "deydmud  Bigmouthstrikesback  dexqq3j          5z98fa          3   \n",
       "crd4uhk         howlingchief  crd4i14          36ceei          1   \n",
       "90nmvb             Weinfield     None          90nmvb          5   \n",
       "\n",
       "        meta.top_level_comment meta.retrieved_on meta.gilded meta.gildings  \\\n",
       "id                                                                           \n",
       "dbrix3s                dbqkxgp        1484130862           0          None   \n",
       "diujudc                diujudc        1499312897           0          None   \n",
       "cbnqq4d                cbnjwiu        1429829700           0          None   \n",
       "c5sqkzc                c5sqkzc        1429631413           0          None   \n",
       "d5pb24c                d5pb24c        1471654647           0          None   \n",
       "d64vv88                d64vv88        1473230691           0          None   \n",
       "dosp7xl                dosp7mm        1510121623           0          None   \n",
       "deydmud                dewdp2k        1491495064           0          None   \n",
       "crd4uhk                crd2smi        1433132718           0          None   \n",
       "90nmvb                    None        1536641349           0          None   \n",
       "\n",
       "        meta.subreddit meta.stickied  \\\n",
       "id                                     \n",
       "dbrix3s        Cornell         False   \n",
       "diujudc        Cornell         False   \n",
       "cbnqq4d        Cornell         False   \n",
       "c5sqkzc        Cornell         False   \n",
       "d5pb24c        Cornell         False   \n",
       "d64vv88        Cornell         False   \n",
       "dosp7xl        Cornell         False   \n",
       "deydmud        Cornell         False   \n",
       "crd4uhk        Cornell         False   \n",
       "90nmvb         Cornell         False   \n",
       "\n",
       "                                         meta.permalink  \\\n",
       "id                                                        \n",
       "dbrix3s                                                   \n",
       "diujudc                                                   \n",
       "cbnqq4d                                                   \n",
       "c5sqkzc                                                   \n",
       "d5pb24c                                                   \n",
       "d64vv88                                                   \n",
       "dosp7xl  /r/Cornell/comments/78cb5y/alma_mater/dosp7xl/   \n",
       "deydmud                                                   \n",
       "crd4uhk                                                   \n",
       "90nmvb    /r/Cornell/comments/90nmvb/shp_waiver_denial/   \n",
       "\n",
       "                 meta.author_flair_text meta.surprise  \n",
       "id                                                     \n",
       "dbrix3s                         CS 2020       5.08828  \n",
       "diujudc  Physics &amp; Mathematics 2019       4.52956  \n",
       "cbnqq4d                                       4.33434  \n",
       "c5sqkzc                                       4.32641  \n",
       "d5pb24c                                        4.2999  \n",
       "d64vv88                                       4.28591  \n",
       "dosp7xl                                        4.2755  \n",
       "deydmud                                       4.20287  \n",
       "crd4uhk                                       4.12154  \n",
       "90nmvb                            CS 19       4.07915  "
      ],
      "text/html": "<div>\n<style scoped>\n    .dataframe tbody tr th:only-of-type {\n        vertical-align: middle;\n    }\n\n    .dataframe tbody tr th {\n        vertical-align: top;\n    }\n\n    .dataframe thead th {\n        text-align: right;\n    }\n</style>\n<table border=\"1\" class=\"dataframe\">\n  <thead>\n    <tr style=\"text-align: right;\">\n      <th></th>\n      <th>timestamp</th>\n      <th>text</th>\n      <th>speaker</th>\n      <th>reply_to</th>\n      <th>conversation_id</th>\n      <th>meta.score</th>\n      <th>meta.top_level_comment</th>\n      <th>meta.retrieved_on</th>\n      <th>meta.gilded</th>\n      <th>meta.gildings</th>\n      <th>meta.subreddit</th>\n      <th>meta.stickied</th>\n      <th>meta.permalink</th>\n      <th>meta.author_flair_text</th>\n      <th>meta.surprise</th>\n    </tr>\n    <tr>\n      <th>id</th>\n      <th></th>\n      <th></th>\n      <th></th>\n      <th></th>\n      <th></th>\n      <th></th>\n      <th></th>\n      <th></th>\n      <th></th>\n      <th></th>\n      <th></th>\n      <th></th>\n      <th></th>\n      <th></th>\n      <th></th>\n    </tr>\n  </thead>\n  <tbody>\n    <tr>\n      <th>dbrix3s</th>\n      <td>1483037010</td>\n      <td>BILL BILL BILL BILL BILL BILL BILL BILL BILL B...</td>\n      <td>Straight_Derpin</td>\n      <td>dbqkxgp</td>\n      <td>5kst5l</td>\n      <td>22</td>\n      <td>dbqkxgp</td>\n      <td>1484130862</td>\n      <td>0</td>\n      <td>None</td>\n      <td>Cornell</td>\n      <td>False</td>\n      <td></td>\n      <td>CS 2020</td>\n      <td>5.08828</td>\n    </tr>\n    <tr>\n      <th>diujudc</th>\n      <td>1497369546</td>\n      <td>Fall 2011 Admissions Stats:\\n\\nSchool | Apps |...</td>\n      <td>Dr_Narwhal</td>\n      <td>6h08sg</td>\n      <td>6h08sg</td>\n      <td>9</td>\n      <td>diujudc</td>\n      <td>1499312897</td>\n      <td>0</td>\n      <td>None</td>\n      <td>Cornell</td>\n      <td>False</td>\n      <td></td>\n      <td>Physics &amp;amp; Mathematics 2019</td>\n      <td>4.52956</td>\n    </tr>\n    <tr>\n      <th>cbnqq4d</th>\n      <td>1376508444</td>\n      <td>Even better is Tracfone's StraightTalk. They'r...</td>\n      <td>arandomaltaccount</td>\n      <td>cbnjwiu</td>\n      <td>1kbz4p</td>\n      <td>1</td>\n      <td>cbnjwiu</td>\n      <td>1429829700</td>\n      <td>0</td>\n      <td>None</td>\n      <td>Cornell</td>\n      <td>False</td>\n      <td></td>\n      <td></td>\n      <td>4.33434</td>\n    </tr>\n    <tr>\n      <th>c5sqkzc</th>\n      <td>1344908188</td>\n      <td>Fuck YAF.  And fuck you.  Don't let that hate ...</td>\n      <td>omgdonerkebab</td>\n      <td>y6cd9</td>\n      <td>y6cd9</td>\n      <td>0</td>\n      <td>c5sqkzc</td>\n      <td>1429631413</td>\n      <td>0</td>\n      <td>None</td>\n      <td>Cornell</td>\n      <td>False</td>\n      <td></td>\n      <td></td>\n      <td>4.32641</td>\n    </tr>\n    <tr>\n      <th>d5pb24c</th>\n      <td>1469403847</td>\n      <td>They should be fine, though there are other op...</td>\n      <td>t3hasiangod</td>\n      <td>4ufm6z</td>\n      <td>4ufm6z</td>\n      <td>3</td>\n      <td>d5pb24c</td>\n      <td>1471654647</td>\n      <td>0</td>\n      <td>None</td>\n      <td>Cornell</td>\n      <td>False</td>\n      <td></td>\n      <td></td>\n      <td>4.2999</td>\n    </tr>\n    <tr>\n      <th>d64vv88</th>\n      <td>1470366925</td>\n      <td>Eh, I would be hesitant to wear those. From th...</td>\n      <td>t3hasiangod</td>\n      <td>4w8d7e</td>\n      <td>4w8d7e</td>\n      <td>5</td>\n      <td>d64vv88</td>\n      <td>1473230691</td>\n      <td>0</td>\n      <td>None</td>\n      <td>Cornell</td>\n      <td>False</td>\n      <td></td>\n      <td></td>\n      <td>4.28591</td>\n    </tr>\n    <tr>\n      <th>dosp7xl</th>\n      <td>1508806551</td>\n      <td>Far above Cayuga's waters,\\nwith its waves of ...</td>\n      <td>SwissWatchesOnly</td>\n      <td>dosp7mm</td>\n      <td>78cb5y</td>\n      <td>-2</td>\n      <td>dosp7mm</td>\n      <td>1510121623</td>\n      <td>0</td>\n      <td>None</td>\n      <td>Cornell</td>\n      <td>False</td>\n      <td>/r/Cornell/comments/78cb5y/alma_mater/dosp7xl/</td>\n      <td></td>\n      <td>4.2755</td>\n    </tr>\n    <tr>\n      <th>deydmud</th>\n      <td>1489576091</td>\n      <td>Ah yes, because Newt is so tolerant of those w...</td>\n      <td>Bigmouthstrikesback</td>\n      <td>dexqq3j</td>\n      <td>5z98fa</td>\n      <td>3</td>\n      <td>dewdp2k</td>\n      <td>1491495064</td>\n      <td>0</td>\n      <td>None</td>\n      <td>Cornell</td>\n      <td>False</td>\n      <td></td>\n      <td></td>\n      <td>4.20287</td>\n    </tr>\n    <tr>\n      <th>crd4uhk</th>\n      <td>1431970713</td>\n      <td>1933 in NY based on wikipedia https://en.wikip...</td>\n      <td>howlingchief</td>\n      <td>crd4i14</td>\n      <td>36ceei</td>\n      <td>1</td>\n      <td>crd2smi</td>\n      <td>1433132718</td>\n      <td>0</td>\n      <td>None</td>\n      <td>Cornell</td>\n      <td>False</td>\n      <td></td>\n      <td></td>\n      <td>4.12154</td>\n    </tr>\n    <tr>\n      <th>90nmvb</th>\n      <td>1532157947</td>\n      <td>My SHP waiver app got denied, after being appr...</td>\n      <td>Weinfield</td>\n      <td>None</td>\n      <td>90nmvb</td>\n      <td>5</td>\n      <td>None</td>\n      <td>1536641349</td>\n      <td>0</td>\n      <td>None</td>\n      <td>Cornell</td>\n      <td>False</td>\n      <td>/r/Cornell/comments/90nmvb/shp_waiver_denial/</td>\n      <td>CS 19</td>\n      <td>4.07915</td>\n    </tr>\n  </tbody>\n</table>\n</div>"
     },
     "metadata": {},
     "execution_count": 15
    }
   ],
   "source": [
    "most_surprising = transformed_corpus.get_utterances_dataframe().sort_values('meta.surprise', ascending=False).drop_duplicates(subset=['speaker', 'conversation_id']).head(10)\n",
    "most_surprising"
   ]
  },
  {
   "source": [
    "Now, let's look at some of the least surprising entries."
   ],
   "cell_type": "markdown",
   "metadata": {}
  },
  {
   "cell_type": "code",
   "execution_count": 16,
   "metadata": {},
   "outputs": [
    {
     "output_type": "execute_result",
     "data": {
      "text/plain": [
       "          timestamp                                               text  \\\n",
       "id                                                                       \n",
       "e3b5chg  1532980787  All of the other responses here are spot-on bu...   \n",
       "cymjym0  1451978623  Look, every college within Cornell is differen...   \n",
       "d4itxwh  1466559788  The placement exams are generally final exams ...   \n",
       "e7wd72e  1539728814  a) You can't minor in AEP (but you can minor i...   \n",
       "dbj1d3a  1482456805  I am not at all familiar with the transfer pro...   \n",
       "dxwnvbb  1524603525  Many of the classes are in the host language (...   \n",
       "e4mtybd  1534949183  If you swap in that case, you would need to st...   \n",
       "dmww8fw  1505241788  I don't know much about really competitive fra...   \n",
       "dvir3qu  1520758241  CHEM 2150 is not a class you want to take if y...   \n",
       "d3eo3tj  1463875929  If you got it leaving the Student Agencies or ...   \n",
       "\n",
       "                speaker reply_to conversation_id meta.score  \\\n",
       "id                                                            \n",
       "e3b5chg      Fencerman2   92rvm5          92rvm5          4   \n",
       "cymjym0       cryptkeep  cymhmfa          3zgnom          3   \n",
       "d4itxwh  laveritecestla   4p84yz          4p84yz          1   \n",
       "e7wd72e    rwaterbender   9ora8i          9ora8i          5   \n",
       "dbj1d3a  laveritecestla  dbiys1w          5jn3x9          1   \n",
       "dxwnvbb         Missora   8emxf7          8emxf7          6   \n",
       "e4mtybd      Fencerman2   99dspg          99dspg          2   \n",
       "dmww8fw      Fencerman2  dmwqw1q          6zhozg          2   \n",
       "dvir3qu    rwaterbender   83daa2          83daa2          2   \n",
       "d3eo3tj       cryptkeep   4kg1kp          4kg1kp          3   \n",
       "\n",
       "        meta.top_level_comment meta.retrieved_on meta.gilded  \\\n",
       "id                                                             \n",
       "e3b5chg                e3b5chg        1536885658           0   \n",
       "cymjym0                cymhmfa        1454289713           0   \n",
       "d4itxwh                d4itxwh        1469205803           0   \n",
       "e7wd72e                e7wd72e        1541128816           0   \n",
       "dbj1d3a                dbhxklw        1483978661           0   \n",
       "dxwnvbb                dxwnvbb        1526699887           0   \n",
       "e4mtybd                e4mtybd        1537809814           0   \n",
       "dmww8fw                dmwhmg8        1506719522           0   \n",
       "dvir3qu                dvir3qu        1525042213           0   \n",
       "d3eo3tj                d3eo3tj        1466012592           0   \n",
       "\n",
       "                                meta.gildings meta.subreddit meta.stickied  \\\n",
       "id                                                                           \n",
       "e3b5chg                                  None        Cornell         False   \n",
       "cymjym0                                  None        Cornell         False   \n",
       "d4itxwh                                  None        Cornell         False   \n",
       "e7wd72e  {'gid_1': 0, 'gid_2': 0, 'gid_3': 0}        Cornell         False   \n",
       "dbj1d3a                                  None        Cornell         False   \n",
       "dxwnvbb                                  None        Cornell         False   \n",
       "e4mtybd                                  None        Cornell         False   \n",
       "dmww8fw                                  None        Cornell         False   \n",
       "dvir3qu                                  None        Cornell         False   \n",
       "d3eo3tj                                  None        Cornell         False   \n",
       "\n",
       "                                            meta.permalink  \\\n",
       "id                                                           \n",
       "e3b5chg  /r/Cornell/comments/92rvm5/what_to_expect_for_...   \n",
       "cymjym0                                                      \n",
       "d4itxwh                                                      \n",
       "e7wd72e  /r/Cornell/comments/9ora8i/conflicting_time_sc...   \n",
       "dbj1d3a                                                      \n",
       "dxwnvbb  /r/Cornell/comments/8emxf7/can_i_study_abroad_...   \n",
       "e4mtybd  /r/Cornell/comments/99dspg/swap_lectures_quest...   \n",
       "dmww8fw                                                      \n",
       "dvir3qu  /r/Cornell/comments/83daa2/chem_2150_for_an_ae...   \n",
       "d3eo3tj                                                      \n",
       "\n",
       "        meta.author_flair_text meta.surprise  \n",
       "id                                            \n",
       "e3b5chg           COE | CS '20       2.41803  \n",
       "cymjym0                              2.49118  \n",
       "d4itxwh                              2.55911  \n",
       "e7wd72e                AEP '20        2.6121  \n",
       "dbj1d3a                 BME 18       2.61999  \n",
       "dxwnvbb                              2.68823  \n",
       "e4mtybd           COE | CS '20       2.68897  \n",
       "dmww8fw                 CS '20       2.70664  \n",
       "dvir3qu                AEP '20       2.72102  \n",
       "d3eo3tj                               2.7291  "
      ],
      "text/html": "<div>\n<style scoped>\n    .dataframe tbody tr th:only-of-type {\n        vertical-align: middle;\n    }\n\n    .dataframe tbody tr th {\n        vertical-align: top;\n    }\n\n    .dataframe thead th {\n        text-align: right;\n    }\n</style>\n<table border=\"1\" class=\"dataframe\">\n  <thead>\n    <tr style=\"text-align: right;\">\n      <th></th>\n      <th>timestamp</th>\n      <th>text</th>\n      <th>speaker</th>\n      <th>reply_to</th>\n      <th>conversation_id</th>\n      <th>meta.score</th>\n      <th>meta.top_level_comment</th>\n      <th>meta.retrieved_on</th>\n      <th>meta.gilded</th>\n      <th>meta.gildings</th>\n      <th>meta.subreddit</th>\n      <th>meta.stickied</th>\n      <th>meta.permalink</th>\n      <th>meta.author_flair_text</th>\n      <th>meta.surprise</th>\n    </tr>\n    <tr>\n      <th>id</th>\n      <th></th>\n      <th></th>\n      <th></th>\n      <th></th>\n      <th></th>\n      <th></th>\n      <th></th>\n      <th></th>\n      <th></th>\n      <th></th>\n      <th></th>\n      <th></th>\n      <th></th>\n      <th></th>\n      <th></th>\n    </tr>\n  </thead>\n  <tbody>\n    <tr>\n      <th>e3b5chg</th>\n      <td>1532980787</td>\n      <td>All of the other responses here are spot-on bu...</td>\n      <td>Fencerman2</td>\n      <td>92rvm5</td>\n      <td>92rvm5</td>\n      <td>4</td>\n      <td>e3b5chg</td>\n      <td>1536885658</td>\n      <td>0</td>\n      <td>None</td>\n      <td>Cornell</td>\n      <td>False</td>\n      <td>/r/Cornell/comments/92rvm5/what_to_expect_for_...</td>\n      <td>COE | CS '20</td>\n      <td>2.41803</td>\n    </tr>\n    <tr>\n      <th>cymjym0</th>\n      <td>1451978623</td>\n      <td>Look, every college within Cornell is differen...</td>\n      <td>cryptkeep</td>\n      <td>cymhmfa</td>\n      <td>3zgnom</td>\n      <td>3</td>\n      <td>cymhmfa</td>\n      <td>1454289713</td>\n      <td>0</td>\n      <td>None</td>\n      <td>Cornell</td>\n      <td>False</td>\n      <td></td>\n      <td></td>\n      <td>2.49118</td>\n    </tr>\n    <tr>\n      <th>d4itxwh</th>\n      <td>1466559788</td>\n      <td>The placement exams are generally final exams ...</td>\n      <td>laveritecestla</td>\n      <td>4p84yz</td>\n      <td>4p84yz</td>\n      <td>1</td>\n      <td>d4itxwh</td>\n      <td>1469205803</td>\n      <td>0</td>\n      <td>None</td>\n      <td>Cornell</td>\n      <td>False</td>\n      <td></td>\n      <td></td>\n      <td>2.55911</td>\n    </tr>\n    <tr>\n      <th>e7wd72e</th>\n      <td>1539728814</td>\n      <td>a) You can't minor in AEP (but you can minor i...</td>\n      <td>rwaterbender</td>\n      <td>9ora8i</td>\n      <td>9ora8i</td>\n      <td>5</td>\n      <td>e7wd72e</td>\n      <td>1541128816</td>\n      <td>0</td>\n      <td>{'gid_1': 0, 'gid_2': 0, 'gid_3': 0}</td>\n      <td>Cornell</td>\n      <td>False</td>\n      <td>/r/Cornell/comments/9ora8i/conflicting_time_sc...</td>\n      <td>AEP '20</td>\n      <td>2.6121</td>\n    </tr>\n    <tr>\n      <th>dbj1d3a</th>\n      <td>1482456805</td>\n      <td>I am not at all familiar with the transfer pro...</td>\n      <td>laveritecestla</td>\n      <td>dbiys1w</td>\n      <td>5jn3x9</td>\n      <td>1</td>\n      <td>dbhxklw</td>\n      <td>1483978661</td>\n      <td>0</td>\n      <td>None</td>\n      <td>Cornell</td>\n      <td>False</td>\n      <td></td>\n      <td>BME 18</td>\n      <td>2.61999</td>\n    </tr>\n    <tr>\n      <th>dxwnvbb</th>\n      <td>1524603525</td>\n      <td>Many of the classes are in the host language (...</td>\n      <td>Missora</td>\n      <td>8emxf7</td>\n      <td>8emxf7</td>\n      <td>6</td>\n      <td>dxwnvbb</td>\n      <td>1526699887</td>\n      <td>0</td>\n      <td>None</td>\n      <td>Cornell</td>\n      <td>False</td>\n      <td>/r/Cornell/comments/8emxf7/can_i_study_abroad_...</td>\n      <td></td>\n      <td>2.68823</td>\n    </tr>\n    <tr>\n      <th>e4mtybd</th>\n      <td>1534949183</td>\n      <td>If you swap in that case, you would need to st...</td>\n      <td>Fencerman2</td>\n      <td>99dspg</td>\n      <td>99dspg</td>\n      <td>2</td>\n      <td>e4mtybd</td>\n      <td>1537809814</td>\n      <td>0</td>\n      <td>None</td>\n      <td>Cornell</td>\n      <td>False</td>\n      <td>/r/Cornell/comments/99dspg/swap_lectures_quest...</td>\n      <td>COE | CS '20</td>\n      <td>2.68897</td>\n    </tr>\n    <tr>\n      <th>dmww8fw</th>\n      <td>1505241788</td>\n      <td>I don't know much about really competitive fra...</td>\n      <td>Fencerman2</td>\n      <td>dmwqw1q</td>\n      <td>6zhozg</td>\n      <td>2</td>\n      <td>dmwhmg8</td>\n      <td>1506719522</td>\n      <td>0</td>\n      <td>None</td>\n      <td>Cornell</td>\n      <td>False</td>\n      <td></td>\n      <td>CS '20</td>\n      <td>2.70664</td>\n    </tr>\n    <tr>\n      <th>dvir3qu</th>\n      <td>1520758241</td>\n      <td>CHEM 2150 is not a class you want to take if y...</td>\n      <td>rwaterbender</td>\n      <td>83daa2</td>\n      <td>83daa2</td>\n      <td>2</td>\n      <td>dvir3qu</td>\n      <td>1525042213</td>\n      <td>0</td>\n      <td>None</td>\n      <td>Cornell</td>\n      <td>False</td>\n      <td>/r/Cornell/comments/83daa2/chem_2150_for_an_ae...</td>\n      <td>AEP '20</td>\n      <td>2.72102</td>\n    </tr>\n    <tr>\n      <th>d3eo3tj</th>\n      <td>1463875929</td>\n      <td>If you got it leaving the Student Agencies or ...</td>\n      <td>cryptkeep</td>\n      <td>4kg1kp</td>\n      <td>4kg1kp</td>\n      <td>3</td>\n      <td>d3eo3tj</td>\n      <td>1466012592</td>\n      <td>0</td>\n      <td>None</td>\n      <td>Cornell</td>\n      <td>False</td>\n      <td></td>\n      <td></td>\n      <td>2.7291</td>\n    </tr>\n  </tbody>\n</table>\n</div>"
     },
     "metadata": {},
     "execution_count": 16
    }
   ],
   "source": [
    "least_surprising = transformed_corpus.get_utterances_dataframe().sort_values('meta.surprise').drop_duplicates(subset=['speaker', 'conversation_id']).head(10)\n",
    "least_surprising"
   ]
  },
  {
   "source": [
    "### Comparison to SpeakerConvoDiversity"
   ],
   "cell_type": "markdown",
   "metadata": {}
  },
  {
   "cell_type": "code",
   "execution_count": 17,
   "metadata": {},
   "outputs": [],
   "source": [
    "from convokit import SpeakerConvoDiversity\n",
    "\n",
    "scd = SpeakerConvoDiversity('div', select_fn=lambda df, row, aux: (df.convo_id != row.convo_id) & (df.speaker == row.speaker), speaker_cols=['n_convos'], aux_input={'n_iters': 50, 'cmp_sample_size': 100, 'ref_sample_size': 100}, verbosity=100)"
   ]
  },
  {
   "cell_type": "code",
   "execution_count": 18,
   "metadata": {},
   "outputs": [],
   "source": [
    "# from sklearn.feature_extraction.text import CountVectorizer\n",
    "# cv = CountVectorizer()\n",
    "\n",
    "# for utt in corpus.iter_utterances():\n",
    "#     tokens = cv.build_analyzer()(utt.text)\n",
    "#     toks = [{'toks': [{'tok': x} for x in tokens]}]\n",
    "#     utt.add_meta('tokens', toks)\n",
    "\n",
    "# corpus.get_utterances_dataframe()"
   ]
  },
  {
   "cell_type": "code",
   "execution_count": 19,
   "metadata": {
    "tags": []
   },
   "outputs": [
    {
     "output_type": "stream",
     "name": "stdout",
     "text": [
      "1000/20700 utterances processed\n",
      "2000/20700 utterances processed\n",
      "3000/20700 utterances processed\n",
      "4000/20700 utterances processed\n",
      "5000/20700 utterances processed\n",
      "6000/20700 utterances processed\n",
      "7000/20700 utterances processed\n",
      "8000/20700 utterances processed\n",
      "9000/20700 utterances processed\n",
      "10000/20700 utterances processed\n",
      "11000/20700 utterances processed\n",
      "12000/20700 utterances processed\n",
      "13000/20700 utterances processed\n",
      "14000/20700 utterances processed\n",
      "15000/20700 utterances processed\n",
      "16000/20700 utterances processed\n",
      "17000/20700 utterances processed\n",
      "18000/20700 utterances processed\n",
      "19000/20700 utterances processed\n",
      "20000/20700 utterances processed\n",
      "20700/20700 utterances processed\n"
     ]
    }
   ],
   "source": [
    "from convokit.text_processing import TextParser\n",
    "\n",
    "tokenizer = TextParser(mode='tokenize', output_field='tokens', verbosity=1000)\n",
    "subset_corpus = tokenizer.transform(subset_corpus)"
   ]
  },
  {
   "cell_type": "code",
   "execution_count": 20,
   "metadata": {
    "tags": []
   },
   "outputs": [
    {
     "output_type": "stream",
     "name": "stdout",
     "text": [
      "joining tokens across conversation utterances\n",
      "100 / 15394\n",
      "200 / 15394\n",
      "300 / 15394\n",
      "400 / 15394\n",
      "500 / 15394\n",
      "600 / 15394\n",
      "700 / 15394\n",
      "800 / 15394\n",
      "900 / 15394\n",
      "1000 / 15394\n",
      "1100 / 15394\n",
      "1200 / 15394\n",
      "1300 / 15394\n",
      "1400 / 15394\n",
      "1500 / 15394\n",
      "1600 / 15394\n",
      "1700 / 15394\n",
      "1800 / 15394\n",
      "1900 / 15394\n",
      "2000 / 15394\n",
      "2100 / 15394\n",
      "2200 / 15394\n",
      "2300 / 15394\n",
      "2400 / 15394\n",
      "2500 / 15394\n",
      "2600 / 15394\n",
      "2700 / 15394\n",
      "2800 / 15394\n",
      "2900 / 15394\n",
      "3000 / 15394\n",
      "3100 / 15394\n",
      "3200 / 15394\n",
      "3300 / 15394\n",
      "3400 / 15394\n",
      "3500 / 15394\n",
      "3600 / 15394\n",
      "3700 / 15394\n",
      "3800 / 15394\n",
      "3900 / 15394\n",
      "4000 / 15394\n",
      "4100 / 15394\n",
      "4200 / 15394\n",
      "4300 / 15394\n",
      "4400 / 15394\n",
      "4500 / 15394\n",
      "4600 / 15394\n",
      "4700 / 15394\n",
      "4800 / 15394\n",
      "4900 / 15394\n",
      "5000 / 15394\n",
      "5100 / 15394\n",
      "5200 / 15394\n",
      "5300 / 15394\n",
      "5400 / 15394\n",
      "5500 / 15394\n",
      "5600 / 15394\n",
      "5700 / 15394\n",
      "5800 / 15394\n",
      "['bill' 'bill' 'bill' ... 'at' 'least' '.']\n",
      "[array(['computers', 'have', 'always', ..., 'it', \"'s\", 'fantastic'],\n",
      "      dtype='<U59')]\n",
      "5900 / 15394\n",
      "6000 / 15394\n",
      "6100 / 15394\n",
      "6200 / 15394\n",
      "6300 / 15394\n",
      "6400 / 15394\n",
      "6500 / 15394\n",
      "6600 / 15394\n",
      "6700 / 15394\n",
      "6800 / 15394\n",
      "6900 / 15394\n",
      "7000 / 15394\n",
      "7100 / 15394\n",
      "7200 / 15394\n",
      "7300 / 15394\n",
      "7400 / 15394\n",
      "7500 / 15394\n",
      "7600 / 15394\n",
      "7700 / 15394\n",
      "7800 / 15394\n",
      "7900 / 15394\n",
      "8000 / 15394\n",
      "8100 / 15394\n",
      "8200 / 15394\n",
      "8300 / 15394\n",
      "8400 / 15394\n",
      "8500 / 15394\n",
      "8600 / 15394\n",
      "8700 / 15394\n",
      "8800 / 15394\n",
      "8900 / 15394\n",
      "9000 / 15394\n",
      "9100 / 15394\n",
      "9200 / 15394\n",
      "9300 / 15394\n",
      "9400 / 15394\n",
      "9500 / 15394\n",
      "9600 / 15394\n",
      "9700 / 15394\n",
      "9800 / 15394\n",
      "9900 / 15394\n",
      "10000 / 15394\n",
      "10100 / 15394\n",
      "10200 / 15394\n",
      "10300 / 15394\n",
      "10400 / 15394\n",
      "10500 / 15394\n",
      "10600 / 15394\n",
      "10700 / 15394\n",
      "10800 / 15394\n",
      "10900 / 15394\n",
      "11000 / 15394\n",
      "11100 / 15394\n",
      "11200 / 15394\n",
      "11300 / 15394\n",
      "11400 / 15394\n",
      "11500 / 15394\n",
      "11600 / 15394\n",
      "11700 / 15394\n",
      "11800 / 15394\n",
      "11900 / 15394\n",
      "12000 / 15394\n",
      "12100 / 15394\n",
      "12200 / 15394\n",
      "12300 / 15394\n",
      "12400 / 15394\n",
      "12500 / 15394\n",
      "12600 / 15394\n",
      "12700 / 15394\n",
      "12800 / 15394\n",
      "12900 / 15394\n",
      "13000 / 15394\n",
      "13100 / 15394\n",
      "13200 / 15394\n",
      "13300 / 15394\n",
      "13400 / 15394\n",
      "13500 / 15394\n",
      "13600 / 15394\n",
      "13700 / 15394\n",
      "13800 / 15394\n",
      "13900 / 15394\n",
      "14000 / 15394\n",
      "14100 / 15394\n",
      "14200 / 15394\n",
      "14300 / 15394\n",
      "14400 / 15394\n",
      "14500 / 15394\n",
      "14600 / 15394\n",
      "14700 / 15394\n",
      "14800 / 15394\n",
      "14900 / 15394\n",
      "15000 / 15394\n",
      "15100 / 15394\n",
      "15200 / 15394\n",
      "15300 / 15394\n"
     ]
    }
   ],
   "source": [
    "div_transformed = scd.transform(subset_corpus)"
   ]
  },
  {
   "source": [
    "Here are the speaker convo entries that have the highest diversity score."
   ],
   "cell_type": "markdown",
   "metadata": {}
  },
  {
   "cell_type": "code",
   "execution_count": 21,
   "metadata": {},
   "outputs": [
    {
     "output_type": "execute_result",
     "data": {
      "text/plain": [
       "                                   speaker convo_id  convo_idx       div\n",
       "id                                                                      \n",
       "Straight_Derpin__5kst5l    Straight_Derpin   5kst5l         34  4.586888\n",
       "Dr_Narwhal__6h08sg              Dr_Narwhal   6h08sg         75  4.541451\n",
       "rrrrrrr1131__8l3xht            rrrrrrr1131   8l3xht         25  4.498673\n",
       "sasha07974__8v40c1              sasha07974   8v40c1         42  4.494537\n",
       "t3hasiangod__5v6sqb            t3hasiangod   5v6sqb        590  4.488979\n",
       "SwissWatchesOnly__9hcpip  SwissWatchesOnly   9hcpip        129  4.488228\n",
       "agottler__9iyo8u                  agottler   9iyo8u         66  4.486631\n",
       "blackashi__2xxkm4                blackashi   2xxkm4          6  4.485264\n",
       "ScottVandeberg__8tlcdl      ScottVandeberg   8tlcdl         81  4.485180\n",
       "t3hasiangod__4ufm6z            t3hasiangod   4ufm6z        262  4.474613"
      ],
      "text/html": "<div>\n<style scoped>\n    .dataframe tbody tr th:only-of-type {\n        vertical-align: middle;\n    }\n\n    .dataframe tbody tr th {\n        vertical-align: top;\n    }\n\n    .dataframe thead th {\n        text-align: right;\n    }\n</style>\n<table border=\"1\" class=\"dataframe\">\n  <thead>\n    <tr style=\"text-align: right;\">\n      <th></th>\n      <th>speaker</th>\n      <th>convo_id</th>\n      <th>convo_idx</th>\n      <th>div</th>\n    </tr>\n    <tr>\n      <th>id</th>\n      <th></th>\n      <th></th>\n      <th></th>\n      <th></th>\n    </tr>\n  </thead>\n  <tbody>\n    <tr>\n      <th>Straight_Derpin__5kst5l</th>\n      <td>Straight_Derpin</td>\n      <td>5kst5l</td>\n      <td>34</td>\n      <td>4.586888</td>\n    </tr>\n    <tr>\n      <th>Dr_Narwhal__6h08sg</th>\n      <td>Dr_Narwhal</td>\n      <td>6h08sg</td>\n      <td>75</td>\n      <td>4.541451</td>\n    </tr>\n    <tr>\n      <th>rrrrrrr1131__8l3xht</th>\n      <td>rrrrrrr1131</td>\n      <td>8l3xht</td>\n      <td>25</td>\n      <td>4.498673</td>\n    </tr>\n    <tr>\n      <th>sasha07974__8v40c1</th>\n      <td>sasha07974</td>\n      <td>8v40c1</td>\n      <td>42</td>\n      <td>4.494537</td>\n    </tr>\n    <tr>\n      <th>t3hasiangod__5v6sqb</th>\n      <td>t3hasiangod</td>\n      <td>5v6sqb</td>\n      <td>590</td>\n      <td>4.488979</td>\n    </tr>\n    <tr>\n      <th>SwissWatchesOnly__9hcpip</th>\n      <td>SwissWatchesOnly</td>\n      <td>9hcpip</td>\n      <td>129</td>\n      <td>4.488228</td>\n    </tr>\n    <tr>\n      <th>agottler__9iyo8u</th>\n      <td>agottler</td>\n      <td>9iyo8u</td>\n      <td>66</td>\n      <td>4.486631</td>\n    </tr>\n    <tr>\n      <th>blackashi__2xxkm4</th>\n      <td>blackashi</td>\n      <td>2xxkm4</td>\n      <td>6</td>\n      <td>4.485264</td>\n    </tr>\n    <tr>\n      <th>ScottVandeberg__8tlcdl</th>\n      <td>ScottVandeberg</td>\n      <td>8tlcdl</td>\n      <td>81</td>\n      <td>4.485180</td>\n    </tr>\n    <tr>\n      <th>t3hasiangod__4ufm6z</th>\n      <td>t3hasiangod</td>\n      <td>4ufm6z</td>\n      <td>262</td>\n      <td>4.474613</td>\n    </tr>\n  </tbody>\n</table>\n</div>"
     },
     "metadata": {},
     "execution_count": 21
    }
   ],
   "source": [
    "div_transformed.get_speaker_convo_attribute_table(attrs=['div']).sort_values('div', ascending=False).head(10)"
   ]
  },
  {
   "source": [
    "Notice that the diversity scores returned by `SpeakerConvoDiversity` are slightly different from the scores returned by the `Surprise` transformer. This difference can be attributed to the addition of Laplace smoothing in the `Surprise` transformer to account for out of vocabulary tokens. The `SpeakerConvoDiversity` transformer deals with OOV tokens by simply treating their count as 1. If you run the `Surprise` transformer with the `smooth` flag set to false, the transformer will treat OOV tokens the same way `SpeakerConvoDiversity` does. When run without smoothing, the `Surprise` transformer returns the same scores as `SpeakerConvoDiversity`."
   ],
   "cell_type": "markdown",
   "metadata": {}
  },
  {
   "source": [
    "Here are the least diverse speaker-convo entries based on the SpeakerConvoDiversity transformer."
   ],
   "cell_type": "markdown",
   "metadata": {}
  },
  {
   "cell_type": "code",
   "execution_count": 22,
   "metadata": {},
   "outputs": [
    {
     "output_type": "execute_result",
     "data": {
      "text/plain": [
       "                           speaker convo_id  convo_idx       div\n",
       "id                                                              \n",
       "happysted__8qssd1        happysted   8qssd1         69  4.215634\n",
       "Fencerman2__90r1nf      Fencerman2   90r1nf        231  4.219402\n",
       "dedicateddan__4krfrc  dedicateddan   4krfrc         97  4.220458\n",
       "Enyo287__5ipedu            Enyo287   5ipedu        281  4.223258\n",
       "t3hasiangod__4ar3u0    t3hasiangod   4ar3u0         99  4.224444\n",
       "kickstand__obvjl         kickstand    obvjl          6  4.227376\n",
       "happysted__7mibi3        happysted   7mibi3         13  4.230380\n",
       "iBeReese__1uuldh          iBeReese   1uuldh          6  4.230645\n",
       "Pjcrafty__5apodz          Pjcrafty   5apodz         17  4.231452\n",
       "t3hasiangod__3wtoeo    t3hasiangod   3wtoeo         46  4.233020"
      ],
      "text/html": "<div>\n<style scoped>\n    .dataframe tbody tr th:only-of-type {\n        vertical-align: middle;\n    }\n\n    .dataframe tbody tr th {\n        vertical-align: top;\n    }\n\n    .dataframe thead th {\n        text-align: right;\n    }\n</style>\n<table border=\"1\" class=\"dataframe\">\n  <thead>\n    <tr style=\"text-align: right;\">\n      <th></th>\n      <th>speaker</th>\n      <th>convo_id</th>\n      <th>convo_idx</th>\n      <th>div</th>\n    </tr>\n    <tr>\n      <th>id</th>\n      <th></th>\n      <th></th>\n      <th></th>\n      <th></th>\n    </tr>\n  </thead>\n  <tbody>\n    <tr>\n      <th>happysted__8qssd1</th>\n      <td>happysted</td>\n      <td>8qssd1</td>\n      <td>69</td>\n      <td>4.215634</td>\n    </tr>\n    <tr>\n      <th>Fencerman2__90r1nf</th>\n      <td>Fencerman2</td>\n      <td>90r1nf</td>\n      <td>231</td>\n      <td>4.219402</td>\n    </tr>\n    <tr>\n      <th>dedicateddan__4krfrc</th>\n      <td>dedicateddan</td>\n      <td>4krfrc</td>\n      <td>97</td>\n      <td>4.220458</td>\n    </tr>\n    <tr>\n      <th>Enyo287__5ipedu</th>\n      <td>Enyo287</td>\n      <td>5ipedu</td>\n      <td>281</td>\n      <td>4.223258</td>\n    </tr>\n    <tr>\n      <th>t3hasiangod__4ar3u0</th>\n      <td>t3hasiangod</td>\n      <td>4ar3u0</td>\n      <td>99</td>\n      <td>4.224444</td>\n    </tr>\n    <tr>\n      <th>kickstand__obvjl</th>\n      <td>kickstand</td>\n      <td>obvjl</td>\n      <td>6</td>\n      <td>4.227376</td>\n    </tr>\n    <tr>\n      <th>happysted__7mibi3</th>\n      <td>happysted</td>\n      <td>7mibi3</td>\n      <td>13</td>\n      <td>4.230380</td>\n    </tr>\n    <tr>\n      <th>iBeReese__1uuldh</th>\n      <td>iBeReese</td>\n      <td>1uuldh</td>\n      <td>6</td>\n      <td>4.230645</td>\n    </tr>\n    <tr>\n      <th>Pjcrafty__5apodz</th>\n      <td>Pjcrafty</td>\n      <td>5apodz</td>\n      <td>17</td>\n      <td>4.231452</td>\n    </tr>\n    <tr>\n      <th>t3hasiangod__3wtoeo</th>\n      <td>t3hasiangod</td>\n      <td>3wtoeo</td>\n      <td>46</td>\n      <td>4.233020</td>\n    </tr>\n  </tbody>\n</table>\n</div>"
     },
     "metadata": {},
     "execution_count": 22
    }
   ],
   "source": [
    "div_transformed.get_speaker_convo_attribute_table(attrs=['div']).sort_values('div').head(10)"
   ]
  },
  {
   "cell_type": "code",
   "execution_count": null,
   "metadata": {},
   "outputs": [],
   "source": []
  }
 ],
 "metadata": {
  "kernelspec": {
   "display_name": "convokit-venv",
   "language": "python",
   "name": "convokit-venv"
  },
  "language_info": {
   "codemirror_mode": {
    "name": "ipython",
    "version": 3
   },
   "file_extension": ".py",
   "mimetype": "text/x-python",
   "name": "python",
   "nbconvert_exporter": "python",
   "pygments_lexer": "ipython3",
   "version": "3.7.7-final"
  }
 },
 "nbformat": 4,
 "nbformat_minor": 4
}