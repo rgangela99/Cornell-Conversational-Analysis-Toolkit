{
 "cells": [
  {
   "source": [
    "Computing Surprise With ConvoKit\n",
    "=====================\n",
    "This notebook provides a demo of how to use the Surprise transformer to compute surprise across a corpus. The transformer currently only allows computation of how surprising a speaker's utterances in one conversation (target) are compared to their utterances in all other conversations (context) in the corpus. Eventually, the functionality of the Surprise transformer will be abstracted to allow for computation of surprise between any target and context types."
   ],
   "cell_type": "markdown",
   "metadata": {}
  },
  {
   "cell_type": "code",
   "execution_count": 2,
   "metadata": {},
   "outputs": [],
   "source": [
    "import convokit\n",
    "import numpy as np\n",
    "from convokit import Corpus, download, Surprise"
   ]
  },
  {
   "source": [
    "Step 1: Load a corpus\n",
    "--------\n",
    "For now, we will use data from the subreddit r/Cornell to demonstrate the functionality of this transformer"
   ],
   "cell_type": "markdown",
   "metadata": {}
  },
  {
   "cell_type": "code",
   "execution_count": 3,
   "metadata": {
    "tags": []
   },
   "outputs": [
    {
     "output_type": "stream",
     "name": "stdout",
     "text": [
      "Dataset already exists at C:\\Users\\rgang\\.convokit\\downloads\\subreddit-Cornell\n"
     ]
    }
   ],
   "source": [
    "corpus = Corpus(filename=download('subreddit-Cornell'))"
   ]
  },
  {
   "cell_type": "code",
   "execution_count": 4,
   "metadata": {
    "tags": []
   },
   "outputs": [
    {
     "output_type": "stream",
     "name": "stdout",
     "text": [
      "Number of Speakers: 7568\nNumber of Utterances: 74467\nNumber of Conversations: 10744\n"
     ]
    }
   ],
   "source": [
    "corpus.print_summary_stats()"
   ]
  },
  {
   "source": [
    "In order to speed up the demo, we will take just the top 100 most active speakers (based on the number of conversations they participate in)."
   ],
   "cell_type": "markdown",
   "metadata": {}
  },
  {
   "source": [
    "SPEAKER_BLACKLIST = ['[deleted]', 'DeltaBot', 'AutoModerator']\n",
    "def utterance_is_valid(utterance):\n",
    "    return utterance.speaker.id not in SPEAKER_BLACKLIST and utterance.text"
   ],
   "cell_type": "code",
   "metadata": {},
   "execution_count": 5,
   "outputs": []
  },
  {
   "cell_type": "code",
   "execution_count": 6,
   "metadata": {
    "tags": []
   },
   "outputs": [],
   "source": [
    "corpus.organize_speaker_convo_history(utterance_filter=utterance_is_valid)"
   ]
  },
  {
   "cell_type": "code",
   "execution_count": 7,
   "metadata": {},
   "outputs": [],
   "source": [
    "speaker_activities = corpus.get_attribute_table('speaker', ['n_convos'])"
   ]
  },
  {
   "cell_type": "code",
   "execution_count": 8,
   "metadata": {},
   "outputs": [
    {
     "output_type": "execute_result",
     "data": {
      "text/plain": [
       "                    n_convos\n",
       "id                          \n",
       "laveritecestla         781.0\n",
       "EQUASHNZRKUL           726.0\n",
       "CornHellUniversity     696.0\n",
       "t3hasiangod            647.0\n",
       "ilovemymemesboo        430.0\n",
       "omgdonerkebab          425.0\n",
       "cartesiancategory      341.0\n",
       "cornell256             330.0\n",
       "mushiettake            321.0\n",
       "Fencerman2             298.0"
      ],
      "text/html": "<div>\n<style scoped>\n    .dataframe tbody tr th:only-of-type {\n        vertical-align: middle;\n    }\n\n    .dataframe tbody tr th {\n        vertical-align: top;\n    }\n\n    .dataframe thead th {\n        text-align: right;\n    }\n</style>\n<table border=\"1\" class=\"dataframe\">\n  <thead>\n    <tr style=\"text-align: right;\">\n      <th></th>\n      <th>n_convos</th>\n    </tr>\n    <tr>\n      <th>id</th>\n      <th></th>\n    </tr>\n  </thead>\n  <tbody>\n    <tr>\n      <th>laveritecestla</th>\n      <td>781.0</td>\n    </tr>\n    <tr>\n      <th>EQUASHNZRKUL</th>\n      <td>726.0</td>\n    </tr>\n    <tr>\n      <th>CornHellUniversity</th>\n      <td>696.0</td>\n    </tr>\n    <tr>\n      <th>t3hasiangod</th>\n      <td>647.0</td>\n    </tr>\n    <tr>\n      <th>ilovemymemesboo</th>\n      <td>430.0</td>\n    </tr>\n    <tr>\n      <th>omgdonerkebab</th>\n      <td>425.0</td>\n    </tr>\n    <tr>\n      <th>cartesiancategory</th>\n      <td>341.0</td>\n    </tr>\n    <tr>\n      <th>cornell256</th>\n      <td>330.0</td>\n    </tr>\n    <tr>\n      <th>mushiettake</th>\n      <td>321.0</td>\n    </tr>\n    <tr>\n      <th>Fencerman2</th>\n      <td>298.0</td>\n    </tr>\n  </tbody>\n</table>\n</div>"
     },
     "metadata": {},
     "execution_count": 8
    }
   ],
   "source": [
    "speaker_activities.sort_values('n_convos', ascending=False).head(10)"
   ]
  },
  {
   "cell_type": "code",
   "execution_count": 9,
   "metadata": {},
   "outputs": [],
   "source": [
    "top_speakers = speaker_activities.sort_values('n_convos', ascending=False).head(100).index"
   ]
  },
  {
   "cell_type": "code",
   "execution_count": 10,
   "metadata": {},
   "outputs": [],
   "source": [
    "import itertools\n",
    "\n",
    "subset_utts = [list(corpus.get_speaker(speaker).iter_utterances()) for speaker in top_speakers]\n",
    "subset_corpus = Corpus(utterances=list(itertools.chain(*subset_utts)))"
   ]
  },
  {
   "cell_type": "code",
   "execution_count": 11,
   "metadata": {
    "tags": []
   },
   "outputs": [
    {
     "output_type": "stream",
     "name": "stdout",
     "text": [
      "Number of Speakers: 100\nNumber of Utterances: 20700\nNumber of Conversations: 6904\n"
     ]
    }
   ],
   "source": [
    "subset_corpus.print_summary_stats()"
   ]
  },
  {
   "source": [
    "Step 2: Create instance of surprise transformer\n",
    "---------------\n",
    "`target_sample_size` and `context_sample_size` specify the minimum number of tokens that should be in the target and context respectively. If the target or context is too short, the transformer will set the surprise to be `nan`. If we sent these to simply be 1, the most surprising statements tend to just be the very short statements. The transformer takes `n_samples` samples from the target and context transformer (where samples are of size corresponding to `target_sample_size` and `context_sample_size`). It calculates cross entropy for each pair of samples and takes the average to get the final surprise score. This is done to minimize effect of length on scores."
   ],
   "cell_type": "markdown",
   "metadata": {}
  },
  {
   "cell_type": "code",
   "execution_count": 12,
   "metadata": {},
   "outputs": [],
   "source": [
    "surp = Surprise(target_sample_size=100, context_sample_size=100, n_samples=50)"
   ]
  },
  {
   "source": [
    "Step 3: Fit transformer to corpus\n",
    "-----\n"
   ],
   "cell_type": "markdown",
   "metadata": {}
  },
  {
   "cell_type": "code",
   "execution_count": 13,
   "metadata": {},
   "outputs": [],
   "source": [
    "surp = surp.fit(subset_corpus, group_models_by=['speaker'])"
   ]
  },
  {
   "source": [
    "Step 4: Transform corpus\n",
    "--------\n",
    "Currently, this transforms each utterance in the corpus adding a field to its metadata with the calculated surprise."
   ],
   "cell_type": "markdown",
   "metadata": {}
  },
  {
   "cell_type": "code",
   "execution_count": 14,
   "metadata": {
    "tags": []
   },
   "outputs": [],
   "source": [
    "transformed_corpus = surp.transform(subset_corpus, 'utterance', group_target_by=['speaker', 'conversation'], context_selector=lambda s, t: (s.index.get_level_values('speaker') == t[0]) & (s.index.get_level_values('conversation_id') != t[1]), model_selector=lambda ind: ind[0])"
   ]
  },
  {
   "source": [
    "Analysis\n",
    "------\n",
    "Let's take a look at some of the most surprising speaker conversation involvements."
   ],
   "cell_type": "markdown",
   "metadata": {}
  },
  {
   "cell_type": "code",
   "execution_count": 15,
   "metadata": {},
   "outputs": [
    {
     "output_type": "execute_result",
     "data": {
      "text/plain": [
       "          timestamp                                               text  \\\n",
       "id                                                                       \n",
       "dbrix3s  1483037010  BILL BILL BILL BILL BILL BILL BILL BILL BILL B...   \n",
       "dbrnysy  1483043255  Memes aside, I honestly don't know a good answ...   \n",
       "diujudc  1497369546  Fall 2011 Admissions Stats:\\n\\nSchool | Apps |...   \n",
       "cbnqq4d  1376508444  Even better is Tracfone's StraightTalk. They'r...   \n",
       "c5sqkzc  1344908188  Fuck YAF.  And fuck you.  Don't let that hate ...   \n",
       "d64vv88  1470366925  Eh, I would be hesitant to wear those. From th...   \n",
       "dosp7xl  1508806551  Far above Cayuga's waters,\\nwith its waves of ...   \n",
       "78cb5y   1508806536                                          [removed]   \n",
       "dostp1k  1508811592                        Reuse, reduce, and recycle    \n",
       "dosp86e  1508806559  Far above Cayuga's waters,\\nwith its waves of ...   \n",
       "\n",
       "                   speaker reply_to conversation_id meta.score  \\\n",
       "id                                                               \n",
       "dbrix3s    Straight_Derpin  dbqkxgp          5kst5l         22   \n",
       "dbrnysy    Straight_Derpin   5kst5l          5kst5l          2   \n",
       "diujudc         Dr_Narwhal   6h08sg          6h08sg          9   \n",
       "cbnqq4d  arandomaltaccount  cbnjwiu          1kbz4p          1   \n",
       "c5sqkzc      omgdonerkebab    y6cd9           y6cd9          0   \n",
       "d64vv88        t3hasiangod   4w8d7e          4w8d7e          5   \n",
       "dosp7xl   SwissWatchesOnly  dosp7mm          78cb5y         -2   \n",
       "78cb5y    SwissWatchesOnly     None          78cb5y          0   \n",
       "dostp1k   SwissWatchesOnly  dosqnit          78cb5y          1   \n",
       "dosp86e   SwissWatchesOnly  dosp83a          78cb5y          1   \n",
       "\n",
       "        meta.top_level_comment meta.retrieved_on meta.gilded meta.gildings  \\\n",
       "id                                                                           \n",
       "dbrix3s                dbqkxgp        1484130862           0          None   \n",
       "dbrnysy                dbrnysy        1484133363           0          None   \n",
       "diujudc                diujudc        1499312897           0          None   \n",
       "cbnqq4d                cbnjwiu        1429829700           0          None   \n",
       "c5sqkzc                c5sqkzc        1429631413           0          None   \n",
       "d64vv88                d64vv88        1473230691           0          None   \n",
       "dosp7xl                dosp7mm        1510121623           0          None   \n",
       "78cb5y                    None        1510471733           0          None   \n",
       "dostp1k                dosqnit        1510123856           0          None   \n",
       "dosp86e                dosp7mm        1510121626           0          None   \n",
       "\n",
       "        meta.subreddit meta.stickied  \\\n",
       "id                                     \n",
       "dbrix3s        Cornell         False   \n",
       "dbrnysy        Cornell         False   \n",
       "diujudc        Cornell         False   \n",
       "cbnqq4d        Cornell         False   \n",
       "c5sqkzc        Cornell         False   \n",
       "d64vv88        Cornell         False   \n",
       "dosp7xl        Cornell         False   \n",
       "78cb5y         Cornell         False   \n",
       "dostp1k        Cornell         False   \n",
       "dosp86e        Cornell         False   \n",
       "\n",
       "                                         meta.permalink  \\\n",
       "id                                                        \n",
       "dbrix3s                                                   \n",
       "dbrnysy                                                   \n",
       "diujudc                                                   \n",
       "cbnqq4d                                                   \n",
       "c5sqkzc                                                   \n",
       "d64vv88                                                   \n",
       "dosp7xl  /r/Cornell/comments/78cb5y/alma_mater/dosp7xl/   \n",
       "78cb5y           /r/Cornell/comments/78cb5y/alma_mater/   \n",
       "dostp1k  /r/Cornell/comments/78cb5y/alma_mater/dostp1k/   \n",
       "dosp86e  /r/Cornell/comments/78cb5y/alma_mater/dosp86e/   \n",
       "\n",
       "                 meta.author_flair_text meta.surprise  \n",
       "id                                                     \n",
       "dbrix3s                         CS 2020       5.08975  \n",
       "dbrnysy                         CS 2020       5.08975  \n",
       "diujudc  Physics &amp; Mathematics 2019       4.56458  \n",
       "cbnqq4d                                       4.37768  \n",
       "c5sqkzc                                       4.34288  \n",
       "d64vv88                                       4.32161  \n",
       "dosp7xl                                       4.31024  \n",
       "78cb5y                                        4.31024  \n",
       "dostp1k                                       4.31024  \n",
       "dosp86e                                       4.31024  "
      ],
      "text/html": "<div>\n<style scoped>\n    .dataframe tbody tr th:only-of-type {\n        vertical-align: middle;\n    }\n\n    .dataframe tbody tr th {\n        vertical-align: top;\n    }\n\n    .dataframe thead th {\n        text-align: right;\n    }\n</style>\n<table border=\"1\" class=\"dataframe\">\n  <thead>\n    <tr style=\"text-align: right;\">\n      <th></th>\n      <th>timestamp</th>\n      <th>text</th>\n      <th>speaker</th>\n      <th>reply_to</th>\n      <th>conversation_id</th>\n      <th>meta.score</th>\n      <th>meta.top_level_comment</th>\n      <th>meta.retrieved_on</th>\n      <th>meta.gilded</th>\n      <th>meta.gildings</th>\n      <th>meta.subreddit</th>\n      <th>meta.stickied</th>\n      <th>meta.permalink</th>\n      <th>meta.author_flair_text</th>\n      <th>meta.surprise</th>\n    </tr>\n    <tr>\n      <th>id</th>\n      <th></th>\n      <th></th>\n      <th></th>\n      <th></th>\n      <th></th>\n      <th></th>\n      <th></th>\n      <th></th>\n      <th></th>\n      <th></th>\n      <th></th>\n      <th></th>\n      <th></th>\n      <th></th>\n      <th></th>\n    </tr>\n  </thead>\n  <tbody>\n    <tr>\n      <th>dbrix3s</th>\n      <td>1483037010</td>\n      <td>BILL BILL BILL BILL BILL BILL BILL BILL BILL B...</td>\n      <td>Straight_Derpin</td>\n      <td>dbqkxgp</td>\n      <td>5kst5l</td>\n      <td>22</td>\n      <td>dbqkxgp</td>\n      <td>1484130862</td>\n      <td>0</td>\n      <td>None</td>\n      <td>Cornell</td>\n      <td>False</td>\n      <td></td>\n      <td>CS 2020</td>\n      <td>5.08975</td>\n    </tr>\n    <tr>\n      <th>dbrnysy</th>\n      <td>1483043255</td>\n      <td>Memes aside, I honestly don't know a good answ...</td>\n      <td>Straight_Derpin</td>\n      <td>5kst5l</td>\n      <td>5kst5l</td>\n      <td>2</td>\n      <td>dbrnysy</td>\n      <td>1484133363</td>\n      <td>0</td>\n      <td>None</td>\n      <td>Cornell</td>\n      <td>False</td>\n      <td></td>\n      <td>CS 2020</td>\n      <td>5.08975</td>\n    </tr>\n    <tr>\n      <th>diujudc</th>\n      <td>1497369546</td>\n      <td>Fall 2011 Admissions Stats:\\n\\nSchool | Apps |...</td>\n      <td>Dr_Narwhal</td>\n      <td>6h08sg</td>\n      <td>6h08sg</td>\n      <td>9</td>\n      <td>diujudc</td>\n      <td>1499312897</td>\n      <td>0</td>\n      <td>None</td>\n      <td>Cornell</td>\n      <td>False</td>\n      <td></td>\n      <td>Physics &amp;amp; Mathematics 2019</td>\n      <td>4.56458</td>\n    </tr>\n    <tr>\n      <th>cbnqq4d</th>\n      <td>1376508444</td>\n      <td>Even better is Tracfone's StraightTalk. They'r...</td>\n      <td>arandomaltaccount</td>\n      <td>cbnjwiu</td>\n      <td>1kbz4p</td>\n      <td>1</td>\n      <td>cbnjwiu</td>\n      <td>1429829700</td>\n      <td>0</td>\n      <td>None</td>\n      <td>Cornell</td>\n      <td>False</td>\n      <td></td>\n      <td></td>\n      <td>4.37768</td>\n    </tr>\n    <tr>\n      <th>c5sqkzc</th>\n      <td>1344908188</td>\n      <td>Fuck YAF.  And fuck you.  Don't let that hate ...</td>\n      <td>omgdonerkebab</td>\n      <td>y6cd9</td>\n      <td>y6cd9</td>\n      <td>0</td>\n      <td>c5sqkzc</td>\n      <td>1429631413</td>\n      <td>0</td>\n      <td>None</td>\n      <td>Cornell</td>\n      <td>False</td>\n      <td></td>\n      <td></td>\n      <td>4.34288</td>\n    </tr>\n    <tr>\n      <th>d64vv88</th>\n      <td>1470366925</td>\n      <td>Eh, I would be hesitant to wear those. From th...</td>\n      <td>t3hasiangod</td>\n      <td>4w8d7e</td>\n      <td>4w8d7e</td>\n      <td>5</td>\n      <td>d64vv88</td>\n      <td>1473230691</td>\n      <td>0</td>\n      <td>None</td>\n      <td>Cornell</td>\n      <td>False</td>\n      <td></td>\n      <td></td>\n      <td>4.32161</td>\n    </tr>\n    <tr>\n      <th>dosp7xl</th>\n      <td>1508806551</td>\n      <td>Far above Cayuga's waters,\\nwith its waves of ...</td>\n      <td>SwissWatchesOnly</td>\n      <td>dosp7mm</td>\n      <td>78cb5y</td>\n      <td>-2</td>\n      <td>dosp7mm</td>\n      <td>1510121623</td>\n      <td>0</td>\n      <td>None</td>\n      <td>Cornell</td>\n      <td>False</td>\n      <td>/r/Cornell/comments/78cb5y/alma_mater/dosp7xl/</td>\n      <td></td>\n      <td>4.31024</td>\n    </tr>\n    <tr>\n      <th>78cb5y</th>\n      <td>1508806536</td>\n      <td>[removed]</td>\n      <td>SwissWatchesOnly</td>\n      <td>None</td>\n      <td>78cb5y</td>\n      <td>0</td>\n      <td>None</td>\n      <td>1510471733</td>\n      <td>0</td>\n      <td>None</td>\n      <td>Cornell</td>\n      <td>False</td>\n      <td>/r/Cornell/comments/78cb5y/alma_mater/</td>\n      <td></td>\n      <td>4.31024</td>\n    </tr>\n    <tr>\n      <th>dostp1k</th>\n      <td>1508811592</td>\n      <td>Reuse, reduce, and recycle</td>\n      <td>SwissWatchesOnly</td>\n      <td>dosqnit</td>\n      <td>78cb5y</td>\n      <td>1</td>\n      <td>dosqnit</td>\n      <td>1510123856</td>\n      <td>0</td>\n      <td>None</td>\n      <td>Cornell</td>\n      <td>False</td>\n      <td>/r/Cornell/comments/78cb5y/alma_mater/dostp1k/</td>\n      <td></td>\n      <td>4.31024</td>\n    </tr>\n    <tr>\n      <th>dosp86e</th>\n      <td>1508806559</td>\n      <td>Far above Cayuga's waters,\\nwith its waves of ...</td>\n      <td>SwissWatchesOnly</td>\n      <td>dosp83a</td>\n      <td>78cb5y</td>\n      <td>1</td>\n      <td>dosp7mm</td>\n      <td>1510121626</td>\n      <td>0</td>\n      <td>None</td>\n      <td>Cornell</td>\n      <td>False</td>\n      <td>/r/Cornell/comments/78cb5y/alma_mater/dosp86e/</td>\n      <td></td>\n      <td>4.31024</td>\n    </tr>\n  </tbody>\n</table>\n</div>"
     },
     "metadata": {},
     "execution_count": 15
    }
   ],
   "source": [
    "most_surprising = transformed_corpus.get_utterances_dataframe().sort_values('meta.surprise', ascending=False).head(10)\n",
    "most_surprising"
   ]
  },
  {
   "source": [
    "You can see above that utterances with the same speaker and conversation id have the same surprise as expected. Let's remove these duplicate entries so we can see more of the data."
   ],
   "cell_type": "markdown",
   "metadata": {}
  },
  {
   "cell_type": "code",
   "execution_count": 16,
   "metadata": {},
   "outputs": [
    {
     "output_type": "execute_result",
     "data": {
      "text/plain": [
       "          timestamp                                               text  \\\n",
       "id                                                                       \n",
       "dbrix3s  1483037010  BILL BILL BILL BILL BILL BILL BILL BILL BILL B...   \n",
       "diujudc  1497369546  Fall 2011 Admissions Stats:\\n\\nSchool | Apps |...   \n",
       "cbnqq4d  1376508444  Even better is Tracfone's StraightTalk. They'r...   \n",
       "c5sqkzc  1344908188  Fuck YAF.  And fuck you.  Don't let that hate ...   \n",
       "d64vv88  1470366925  Eh, I would be hesitant to wear those. From th...   \n",
       "dosp7xl  1508806551  Far above Cayuga's waters,\\nwith its waves of ...   \n",
       "d5pb24c  1469403847  They should be fine, though there are other op...   \n",
       "deydmud  1489576091  Ah yes, because Newt is so tolerant of those w...   \n",
       "crd3it7  1431968562  I doubt Tompkins was dry in 1940. [This articl...   \n",
       "dksullx  1501174245  Here's my list. A lot of the interesting class...   \n",
       "\n",
       "                     speaker reply_to conversation_id meta.score  \\\n",
       "id                                                                 \n",
       "dbrix3s      Straight_Derpin  dbqkxgp          5kst5l         22   \n",
       "diujudc           Dr_Narwhal   6h08sg          6h08sg          9   \n",
       "cbnqq4d    arandomaltaccount  cbnjwiu          1kbz4p          1   \n",
       "c5sqkzc        omgdonerkebab    y6cd9           y6cd9          0   \n",
       "d64vv88          t3hasiangod   4w8d7e          4w8d7e          5   \n",
       "dosp7xl     SwissWatchesOnly  dosp7mm          78cb5y         -2   \n",
       "d5pb24c          t3hasiangod   4ufm6z          4ufm6z          3   \n",
       "deydmud  Bigmouthstrikesback  dexqq3j          5z98fa          3   \n",
       "crd3it7         howlingchief  crd3d1z          36ceei          2   \n",
       "dksullx    cartesiancategory   6pot7n          6pot7n          2   \n",
       "\n",
       "        meta.top_level_comment meta.retrieved_on meta.gilded meta.gildings  \\\n",
       "id                                                                           \n",
       "dbrix3s                dbqkxgp        1484130862           0          None   \n",
       "diujudc                diujudc        1499312897           0          None   \n",
       "cbnqq4d                cbnjwiu        1429829700           0          None   \n",
       "c5sqkzc                c5sqkzc        1429631413           0          None   \n",
       "d64vv88                d64vv88        1473230691           0          None   \n",
       "dosp7xl                dosp7mm        1510121623           0          None   \n",
       "d5pb24c                d5pb24c        1471654647           0          None   \n",
       "deydmud                dewdp2k        1491495064           0          None   \n",
       "crd3it7                crd2smi        1433132024           0          None   \n",
       "dksullx                dksullx        1501894634           0          None   \n",
       "\n",
       "        meta.subreddit meta.stickied  \\\n",
       "id                                     \n",
       "dbrix3s        Cornell         False   \n",
       "diujudc        Cornell         False   \n",
       "cbnqq4d        Cornell         False   \n",
       "c5sqkzc        Cornell         False   \n",
       "d64vv88        Cornell         False   \n",
       "dosp7xl        Cornell         False   \n",
       "d5pb24c        Cornell         False   \n",
       "deydmud        Cornell         False   \n",
       "crd3it7        Cornell         False   \n",
       "dksullx        Cornell         False   \n",
       "\n",
       "                                         meta.permalink  \\\n",
       "id                                                        \n",
       "dbrix3s                                                   \n",
       "diujudc                                                   \n",
       "cbnqq4d                                                   \n",
       "c5sqkzc                                                   \n",
       "d64vv88                                                   \n",
       "dosp7xl  /r/Cornell/comments/78cb5y/alma_mater/dosp7xl/   \n",
       "d5pb24c                                                   \n",
       "deydmud                                                   \n",
       "crd3it7                                                   \n",
       "dksullx                                                   \n",
       "\n",
       "                 meta.author_flair_text meta.surprise  \n",
       "id                                                     \n",
       "dbrix3s                         CS 2020       5.08975  \n",
       "diujudc  Physics &amp; Mathematics 2019       4.56458  \n",
       "cbnqq4d                                       4.37768  \n",
       "c5sqkzc                                       4.34288  \n",
       "d64vv88                                       4.32161  \n",
       "dosp7xl                                       4.31024  \n",
       "d5pb24c                                       4.27411  \n",
       "deydmud                                       4.20492  \n",
       "crd3it7                                       4.12254  \n",
       "dksullx                         CS 2017       4.09956  "
      ],
      "text/html": "<div>\n<style scoped>\n    .dataframe tbody tr th:only-of-type {\n        vertical-align: middle;\n    }\n\n    .dataframe tbody tr th {\n        vertical-align: top;\n    }\n\n    .dataframe thead th {\n        text-align: right;\n    }\n</style>\n<table border=\"1\" class=\"dataframe\">\n  <thead>\n    <tr style=\"text-align: right;\">\n      <th></th>\n      <th>timestamp</th>\n      <th>text</th>\n      <th>speaker</th>\n      <th>reply_to</th>\n      <th>conversation_id</th>\n      <th>meta.score</th>\n      <th>meta.top_level_comment</th>\n      <th>meta.retrieved_on</th>\n      <th>meta.gilded</th>\n      <th>meta.gildings</th>\n      <th>meta.subreddit</th>\n      <th>meta.stickied</th>\n      <th>meta.permalink</th>\n      <th>meta.author_flair_text</th>\n      <th>meta.surprise</th>\n    </tr>\n    <tr>\n      <th>id</th>\n      <th></th>\n      <th></th>\n      <th></th>\n      <th></th>\n      <th></th>\n      <th></th>\n      <th></th>\n      <th></th>\n      <th></th>\n      <th></th>\n      <th></th>\n      <th></th>\n      <th></th>\n      <th></th>\n      <th></th>\n    </tr>\n  </thead>\n  <tbody>\n    <tr>\n      <th>dbrix3s</th>\n      <td>1483037010</td>\n      <td>BILL BILL BILL BILL BILL BILL BILL BILL BILL B...</td>\n      <td>Straight_Derpin</td>\n      <td>dbqkxgp</td>\n      <td>5kst5l</td>\n      <td>22</td>\n      <td>dbqkxgp</td>\n      <td>1484130862</td>\n      <td>0</td>\n      <td>None</td>\n      <td>Cornell</td>\n      <td>False</td>\n      <td></td>\n      <td>CS 2020</td>\n      <td>5.08975</td>\n    </tr>\n    <tr>\n      <th>diujudc</th>\n      <td>1497369546</td>\n      <td>Fall 2011 Admissions Stats:\\n\\nSchool | Apps |...</td>\n      <td>Dr_Narwhal</td>\n      <td>6h08sg</td>\n      <td>6h08sg</td>\n      <td>9</td>\n      <td>diujudc</td>\n      <td>1499312897</td>\n      <td>0</td>\n      <td>None</td>\n      <td>Cornell</td>\n      <td>False</td>\n      <td></td>\n      <td>Physics &amp;amp; Mathematics 2019</td>\n      <td>4.56458</td>\n    </tr>\n    <tr>\n      <th>cbnqq4d</th>\n      <td>1376508444</td>\n      <td>Even better is Tracfone's StraightTalk. They'r...</td>\n      <td>arandomaltaccount</td>\n      <td>cbnjwiu</td>\n      <td>1kbz4p</td>\n      <td>1</td>\n      <td>cbnjwiu</td>\n      <td>1429829700</td>\n      <td>0</td>\n      <td>None</td>\n      <td>Cornell</td>\n      <td>False</td>\n      <td></td>\n      <td></td>\n      <td>4.37768</td>\n    </tr>\n    <tr>\n      <th>c5sqkzc</th>\n      <td>1344908188</td>\n      <td>Fuck YAF.  And fuck you.  Don't let that hate ...</td>\n      <td>omgdonerkebab</td>\n      <td>y6cd9</td>\n      <td>y6cd9</td>\n      <td>0</td>\n      <td>c5sqkzc</td>\n      <td>1429631413</td>\n      <td>0</td>\n      <td>None</td>\n      <td>Cornell</td>\n      <td>False</td>\n      <td></td>\n      <td></td>\n      <td>4.34288</td>\n    </tr>\n    <tr>\n      <th>d64vv88</th>\n      <td>1470366925</td>\n      <td>Eh, I would be hesitant to wear those. From th...</td>\n      <td>t3hasiangod</td>\n      <td>4w8d7e</td>\n      <td>4w8d7e</td>\n      <td>5</td>\n      <td>d64vv88</td>\n      <td>1473230691</td>\n      <td>0</td>\n      <td>None</td>\n      <td>Cornell</td>\n      <td>False</td>\n      <td></td>\n      <td></td>\n      <td>4.32161</td>\n    </tr>\n    <tr>\n      <th>dosp7xl</th>\n      <td>1508806551</td>\n      <td>Far above Cayuga's waters,\\nwith its waves of ...</td>\n      <td>SwissWatchesOnly</td>\n      <td>dosp7mm</td>\n      <td>78cb5y</td>\n      <td>-2</td>\n      <td>dosp7mm</td>\n      <td>1510121623</td>\n      <td>0</td>\n      <td>None</td>\n      <td>Cornell</td>\n      <td>False</td>\n      <td>/r/Cornell/comments/78cb5y/alma_mater/dosp7xl/</td>\n      <td></td>\n      <td>4.31024</td>\n    </tr>\n    <tr>\n      <th>d5pb24c</th>\n      <td>1469403847</td>\n      <td>They should be fine, though there are other op...</td>\n      <td>t3hasiangod</td>\n      <td>4ufm6z</td>\n      <td>4ufm6z</td>\n      <td>3</td>\n      <td>d5pb24c</td>\n      <td>1471654647</td>\n      <td>0</td>\n      <td>None</td>\n      <td>Cornell</td>\n      <td>False</td>\n      <td></td>\n      <td></td>\n      <td>4.27411</td>\n    </tr>\n    <tr>\n      <th>deydmud</th>\n      <td>1489576091</td>\n      <td>Ah yes, because Newt is so tolerant of those w...</td>\n      <td>Bigmouthstrikesback</td>\n      <td>dexqq3j</td>\n      <td>5z98fa</td>\n      <td>3</td>\n      <td>dewdp2k</td>\n      <td>1491495064</td>\n      <td>0</td>\n      <td>None</td>\n      <td>Cornell</td>\n      <td>False</td>\n      <td></td>\n      <td></td>\n      <td>4.20492</td>\n    </tr>\n    <tr>\n      <th>crd3it7</th>\n      <td>1431968562</td>\n      <td>I doubt Tompkins was dry in 1940. [This articl...</td>\n      <td>howlingchief</td>\n      <td>crd3d1z</td>\n      <td>36ceei</td>\n      <td>2</td>\n      <td>crd2smi</td>\n      <td>1433132024</td>\n      <td>0</td>\n      <td>None</td>\n      <td>Cornell</td>\n      <td>False</td>\n      <td></td>\n      <td></td>\n      <td>4.12254</td>\n    </tr>\n    <tr>\n      <th>dksullx</th>\n      <td>1501174245</td>\n      <td>Here's my list. A lot of the interesting class...</td>\n      <td>cartesiancategory</td>\n      <td>6pot7n</td>\n      <td>6pot7n</td>\n      <td>2</td>\n      <td>dksullx</td>\n      <td>1501894634</td>\n      <td>0</td>\n      <td>None</td>\n      <td>Cornell</td>\n      <td>False</td>\n      <td></td>\n      <td>CS 2017</td>\n      <td>4.09956</td>\n    </tr>\n  </tbody>\n</table>\n</div>"
     },
     "metadata": {},
     "execution_count": 16
    }
   ],
   "source": [
    "most_surprising = transformed_corpus.get_utterances_dataframe().sort_values('meta.surprise', ascending=False).drop_duplicates(subset=['speaker', 'conversation_id']).head(10)\n",
    "most_surprising"
   ]
  },
  {
   "source": [
    "Now, let's look at some of the least surprising entries."
   ],
   "cell_type": "markdown",
   "metadata": {}
  },
  {
   "cell_type": "code",
   "execution_count": 17,
   "metadata": {},
   "outputs": [
    {
     "output_type": "execute_result",
     "data": {
      "text/plain": [
       "          timestamp                                               text  \\\n",
       "id                                                                       \n",
       "cylyz8l  1451942801  I don't believe there is a minimum GPA require...   \n",
       "dvir3qu  1520758241  CHEM 2150 is not a class you want to take if y...   \n",
       "e7wd72e  1539728814  a) You can't minor in AEP (but you can minor i...   \n",
       "d4itxwh  1466559788  The placement exams are generally final exams ...   \n",
       "e3b5chg  1532980787  All of the other responses here are spot-on bu...   \n",
       "dkfmynl  1500482307  Of course you can. Having said that, you may h...   \n",
       "e7y72uc  1539800251  Everything requires 2110 as a prereq, except 2...   \n",
       "din8ic4  1496955479  Imo, the best way to boost your chances is to ...   \n",
       "dn019j5  1505406483  Do you think you could determine the root of t...   \n",
       "e4mtybd  1534949183  If you swap in that case, you would need to st...   \n",
       "\n",
       "                speaker reply_to conversation_id meta.score  \\\n",
       "id                                                            \n",
       "cylyz8l       cryptkeep   3zgnom          3zgnom          7   \n",
       "dvir3qu    rwaterbender   83daa2          83daa2          2   \n",
       "e7wd72e    rwaterbender   9ora8i          9ora8i          5   \n",
       "d4itxwh  laveritecestla   4p84yz          4p84yz          1   \n",
       "e3b5chg      Fencerman2   92rvm5          92rvm5          4   \n",
       "dkfmynl  laveritecestla   6o9mzn          6o9mzn         11   \n",
       "e7y72uc    rwaterbender  e7y6rt5          9oz71e          2   \n",
       "din8ic4      Fencerman2   6g3p38          6g3p38          4   \n",
       "dn019j5       SantaSoul  dmxd34b          6zqlyk          1   \n",
       "e4mtybd      Fencerman2   99dspg          99dspg          2   \n",
       "\n",
       "        meta.top_level_comment meta.retrieved_on meta.gilded  \\\n",
       "id                                                             \n",
       "cylyz8l                cylyz8l        1454279614           0   \n",
       "dvir3qu                dvir3qu        1525042213           0   \n",
       "e7wd72e                e7wd72e        1541128816           0   \n",
       "d4itxwh                d4itxwh        1469205803           0   \n",
       "e3b5chg                e3b5chg        1536885658           0   \n",
       "dkfmynl                dkfmynl        1501384309           0   \n",
       "e7y72uc                e7y5e4h        1541159585           0   \n",
       "din8ic4                din8ic4        1499182410           0   \n",
       "dn019j5                dmxcm3z        1506775045           0   \n",
       "e4mtybd                e4mtybd        1537809814           0   \n",
       "\n",
       "                                meta.gildings meta.subreddit meta.stickied  \\\n",
       "id                                                                           \n",
       "cylyz8l                                  None        Cornell         False   \n",
       "dvir3qu                                  None        Cornell         False   \n",
       "e7wd72e  {'gid_1': 0, 'gid_2': 0, 'gid_3': 0}        Cornell         False   \n",
       "d4itxwh                                  None        Cornell         False   \n",
       "e3b5chg                                  None        Cornell         False   \n",
       "dkfmynl                                  None        Cornell         False   \n",
       "e7y72uc  {'gid_1': 0, 'gid_2': 0, 'gid_3': 0}        Cornell         False   \n",
       "din8ic4                                  None        Cornell         False   \n",
       "dn019j5                                  None        Cornell         False   \n",
       "e4mtybd                                  None        Cornell         False   \n",
       "\n",
       "                                            meta.permalink  \\\n",
       "id                                                           \n",
       "cylyz8l                                                      \n",
       "dvir3qu  /r/Cornell/comments/83daa2/chem_2150_for_an_ae...   \n",
       "e7wd72e  /r/Cornell/comments/9ora8i/conflicting_time_sc...   \n",
       "d4itxwh                                                      \n",
       "e3b5chg  /r/Cornell/comments/92rvm5/what_to_expect_for_...   \n",
       "dkfmynl                                                      \n",
       "e7y72uc  /r/Cornell/comments/9oz71e/help_guiding_a_lost...   \n",
       "din8ic4                                                      \n",
       "dn019j5                                                      \n",
       "e4mtybd  /r/Cornell/comments/99dspg/swap_lectures_quest...   \n",
       "\n",
       "             meta.author_flair_text meta.surprise  \n",
       "id                                                 \n",
       "cylyz8l                                   2.54516  \n",
       "dvir3qu                     AEP '20       2.57796  \n",
       "e7wd72e                     AEP '20       2.60018  \n",
       "d4itxwh                                   2.64712  \n",
       "e3b5chg                COE | CS '20       2.65595  \n",
       "dkfmynl  Biomedical Engineering '18       2.65738  \n",
       "e7y72uc                     AEP '20       2.65856  \n",
       "din8ic4                      CS '20       2.68509  \n",
       "dn019j5               CS/Stats 2020       2.69324  \n",
       "e4mtybd                COE | CS '20       2.69511  "
      ],
      "text/html": "<div>\n<style scoped>\n    .dataframe tbody tr th:only-of-type {\n        vertical-align: middle;\n    }\n\n    .dataframe tbody tr th {\n        vertical-align: top;\n    }\n\n    .dataframe thead th {\n        text-align: right;\n    }\n</style>\n<table border=\"1\" class=\"dataframe\">\n  <thead>\n    <tr style=\"text-align: right;\">\n      <th></th>\n      <th>timestamp</th>\n      <th>text</th>\n      <th>speaker</th>\n      <th>reply_to</th>\n      <th>conversation_id</th>\n      <th>meta.score</th>\n      <th>meta.top_level_comment</th>\n      <th>meta.retrieved_on</th>\n      <th>meta.gilded</th>\n      <th>meta.gildings</th>\n      <th>meta.subreddit</th>\n      <th>meta.stickied</th>\n      <th>meta.permalink</th>\n      <th>meta.author_flair_text</th>\n      <th>meta.surprise</th>\n    </tr>\n    <tr>\n      <th>id</th>\n      <th></th>\n      <th></th>\n      <th></th>\n      <th></th>\n      <th></th>\n      <th></th>\n      <th></th>\n      <th></th>\n      <th></th>\n      <th></th>\n      <th></th>\n      <th></th>\n      <th></th>\n      <th></th>\n      <th></th>\n    </tr>\n  </thead>\n  <tbody>\n    <tr>\n      <th>cylyz8l</th>\n      <td>1451942801</td>\n      <td>I don't believe there is a minimum GPA require...</td>\n      <td>cryptkeep</td>\n      <td>3zgnom</td>\n      <td>3zgnom</td>\n      <td>7</td>\n      <td>cylyz8l</td>\n      <td>1454279614</td>\n      <td>0</td>\n      <td>None</td>\n      <td>Cornell</td>\n      <td>False</td>\n      <td></td>\n      <td></td>\n      <td>2.54516</td>\n    </tr>\n    <tr>\n      <th>dvir3qu</th>\n      <td>1520758241</td>\n      <td>CHEM 2150 is not a class you want to take if y...</td>\n      <td>rwaterbender</td>\n      <td>83daa2</td>\n      <td>83daa2</td>\n      <td>2</td>\n      <td>dvir3qu</td>\n      <td>1525042213</td>\n      <td>0</td>\n      <td>None</td>\n      <td>Cornell</td>\n      <td>False</td>\n      <td>/r/Cornell/comments/83daa2/chem_2150_for_an_ae...</td>\n      <td>AEP '20</td>\n      <td>2.57796</td>\n    </tr>\n    <tr>\n      <th>e7wd72e</th>\n      <td>1539728814</td>\n      <td>a) You can't minor in AEP (but you can minor i...</td>\n      <td>rwaterbender</td>\n      <td>9ora8i</td>\n      <td>9ora8i</td>\n      <td>5</td>\n      <td>e7wd72e</td>\n      <td>1541128816</td>\n      <td>0</td>\n      <td>{'gid_1': 0, 'gid_2': 0, 'gid_3': 0}</td>\n      <td>Cornell</td>\n      <td>False</td>\n      <td>/r/Cornell/comments/9ora8i/conflicting_time_sc...</td>\n      <td>AEP '20</td>\n      <td>2.60018</td>\n    </tr>\n    <tr>\n      <th>d4itxwh</th>\n      <td>1466559788</td>\n      <td>The placement exams are generally final exams ...</td>\n      <td>laveritecestla</td>\n      <td>4p84yz</td>\n      <td>4p84yz</td>\n      <td>1</td>\n      <td>d4itxwh</td>\n      <td>1469205803</td>\n      <td>0</td>\n      <td>None</td>\n      <td>Cornell</td>\n      <td>False</td>\n      <td></td>\n      <td></td>\n      <td>2.64712</td>\n    </tr>\n    <tr>\n      <th>e3b5chg</th>\n      <td>1532980787</td>\n      <td>All of the other responses here are spot-on bu...</td>\n      <td>Fencerman2</td>\n      <td>92rvm5</td>\n      <td>92rvm5</td>\n      <td>4</td>\n      <td>e3b5chg</td>\n      <td>1536885658</td>\n      <td>0</td>\n      <td>None</td>\n      <td>Cornell</td>\n      <td>False</td>\n      <td>/r/Cornell/comments/92rvm5/what_to_expect_for_...</td>\n      <td>COE | CS '20</td>\n      <td>2.65595</td>\n    </tr>\n    <tr>\n      <th>dkfmynl</th>\n      <td>1500482307</td>\n      <td>Of course you can. Having said that, you may h...</td>\n      <td>laveritecestla</td>\n      <td>6o9mzn</td>\n      <td>6o9mzn</td>\n      <td>11</td>\n      <td>dkfmynl</td>\n      <td>1501384309</td>\n      <td>0</td>\n      <td>None</td>\n      <td>Cornell</td>\n      <td>False</td>\n      <td></td>\n      <td>Biomedical Engineering '18</td>\n      <td>2.65738</td>\n    </tr>\n    <tr>\n      <th>e7y72uc</th>\n      <td>1539800251</td>\n      <td>Everything requires 2110 as a prereq, except 2...</td>\n      <td>rwaterbender</td>\n      <td>e7y6rt5</td>\n      <td>9oz71e</td>\n      <td>2</td>\n      <td>e7y5e4h</td>\n      <td>1541159585</td>\n      <td>0</td>\n      <td>{'gid_1': 0, 'gid_2': 0, 'gid_3': 0}</td>\n      <td>Cornell</td>\n      <td>False</td>\n      <td>/r/Cornell/comments/9oz71e/help_guiding_a_lost...</td>\n      <td>AEP '20</td>\n      <td>2.65856</td>\n    </tr>\n    <tr>\n      <th>din8ic4</th>\n      <td>1496955479</td>\n      <td>Imo, the best way to boost your chances is to ...</td>\n      <td>Fencerman2</td>\n      <td>6g3p38</td>\n      <td>6g3p38</td>\n      <td>4</td>\n      <td>din8ic4</td>\n      <td>1499182410</td>\n      <td>0</td>\n      <td>None</td>\n      <td>Cornell</td>\n      <td>False</td>\n      <td></td>\n      <td>CS '20</td>\n      <td>2.68509</td>\n    </tr>\n    <tr>\n      <th>dn019j5</th>\n      <td>1505406483</td>\n      <td>Do you think you could determine the root of t...</td>\n      <td>SantaSoul</td>\n      <td>dmxd34b</td>\n      <td>6zqlyk</td>\n      <td>1</td>\n      <td>dmxcm3z</td>\n      <td>1506775045</td>\n      <td>0</td>\n      <td>None</td>\n      <td>Cornell</td>\n      <td>False</td>\n      <td></td>\n      <td>CS/Stats 2020</td>\n      <td>2.69324</td>\n    </tr>\n    <tr>\n      <th>e4mtybd</th>\n      <td>1534949183</td>\n      <td>If you swap in that case, you would need to st...</td>\n      <td>Fencerman2</td>\n      <td>99dspg</td>\n      <td>99dspg</td>\n      <td>2</td>\n      <td>e4mtybd</td>\n      <td>1537809814</td>\n      <td>0</td>\n      <td>None</td>\n      <td>Cornell</td>\n      <td>False</td>\n      <td>/r/Cornell/comments/99dspg/swap_lectures_quest...</td>\n      <td>COE | CS '20</td>\n      <td>2.69511</td>\n    </tr>\n  </tbody>\n</table>\n</div>"
     },
     "metadata": {},
     "execution_count": 17
    }
   ],
   "source": [
    "least_surprising = transformed_corpus.get_utterances_dataframe().sort_values('meta.surprise').drop_duplicates(subset=['speaker', 'conversation_id']).head(10)\n",
    "least_surprising"
   ]
  },
  {
   "source": [
    "### Comparison to SpeakerConvoDiversity"
   ],
   "cell_type": "markdown",
   "metadata": {}
  },
  {
   "cell_type": "code",
   "execution_count": 18,
   "metadata": {},
   "outputs": [],
   "source": [
    "from convokit import SpeakerConvoDiversity\n",
    "\n",
    "scd = SpeakerConvoDiversity('div', select_fn=lambda df, row, aux: (df.convo_id != row.convo_id) & (df.speaker == row.speaker), speaker_cols=['n_convos'], aux_input={'n_iters': 50, 'cmp_sample_size': 100, 'ref_sample_size': 100}, verbosity=100)"
   ]
  },
  {
   "cell_type": "code",
   "execution_count": 19,
   "metadata": {},
   "outputs": [],
   "source": [
    "# from sklearn.feature_extraction.text import CountVectorizer\n",
    "# cv = CountVectorizer()\n",
    "\n",
    "# for utt in corpus.iter_utterances():\n",
    "#     tokens = cv.build_analyzer()(utt.text)\n",
    "#     toks = [{'toks': [{'tok': x} for x in tokens]}]\n",
    "#     utt.add_meta('tokens', toks)\n",
    "\n",
    "# corpus.get_utterances_dataframe()"
   ]
  },
  {
   "cell_type": "code",
   "execution_count": 20,
   "metadata": {
    "tags": []
   },
   "outputs": [
    {
     "output_type": "stream",
     "name": "stdout",
     "text": [
      "1000/20700 utterances processed\n",
      "2000/20700 utterances processed\n",
      "3000/20700 utterances processed\n",
      "4000/20700 utterances processed\n",
      "5000/20700 utterances processed\n",
      "6000/20700 utterances processed\n",
      "7000/20700 utterances processed\n",
      "8000/20700 utterances processed\n",
      "9000/20700 utterances processed\n",
      "10000/20700 utterances processed\n",
      "11000/20700 utterances processed\n",
      "12000/20700 utterances processed\n",
      "13000/20700 utterances processed\n",
      "14000/20700 utterances processed\n",
      "15000/20700 utterances processed\n",
      "16000/20700 utterances processed\n",
      "17000/20700 utterances processed\n",
      "18000/20700 utterances processed\n",
      "19000/20700 utterances processed\n",
      "20000/20700 utterances processed\n",
      "20700/20700 utterances processed\n"
     ]
    }
   ],
   "source": [
    "from convokit.text_processing import TextParser\n",
    "\n",
    "tokenizer = TextParser(mode='tokenize', output_field='tokens', verbosity=1000)\n",
    "subset_corpus = tokenizer.transform(subset_corpus)"
   ]
  },
  {
   "cell_type": "code",
   "execution_count": 21,
   "metadata": {
    "tags": []
   },
   "outputs": [
    {
     "output_type": "stream",
     "name": "stdout",
     "text": [
      "joining tokens across conversation utterances\n",
      "100 / 15394\n",
      "200 / 15394\n",
      "300 / 15394\n",
      "400 / 15394\n",
      "500 / 15394\n",
      "600 / 15394\n",
      "700 / 15394\n",
      "800 / 15394\n",
      "900 / 15394\n",
      "1000 / 15394\n",
      "1100 / 15394\n",
      "1200 / 15394\n",
      "1300 / 15394\n",
      "1400 / 15394\n",
      "1500 / 15394\n",
      "1600 / 15394\n",
      "1700 / 15394\n",
      "1800 / 15394\n",
      "1900 / 15394\n",
      "2000 / 15394\n",
      "2100 / 15394\n",
      "2200 / 15394\n",
      "2300 / 15394\n",
      "2400 / 15394\n",
      "2500 / 15394\n",
      "2600 / 15394\n",
      "2700 / 15394\n",
      "2800 / 15394\n",
      "2900 / 15394\n",
      "3000 / 15394\n",
      "3100 / 15394\n",
      "3200 / 15394\n",
      "3300 / 15394\n",
      "3400 / 15394\n",
      "3500 / 15394\n",
      "3600 / 15394\n",
      "3700 / 15394\n",
      "3800 / 15394\n",
      "3900 / 15394\n",
      "4000 / 15394\n",
      "4100 / 15394\n",
      "4200 / 15394\n",
      "4300 / 15394\n",
      "4400 / 15394\n",
      "4500 / 15394\n",
      "4600 / 15394\n",
      "4700 / 15394\n",
      "4800 / 15394\n",
      "4900 / 15394\n",
      "5000 / 15394\n",
      "5100 / 15394\n",
      "5200 / 15394\n",
      "5300 / 15394\n",
      "5400 / 15394\n",
      "5500 / 15394\n",
      "5600 / 15394\n",
      "5700 / 15394\n",
      "5800 / 15394\n",
      "5900 / 15394\n",
      "6000 / 15394\n",
      "6100 / 15394\n",
      "6200 / 15394\n",
      "6300 / 15394\n",
      "6400 / 15394\n",
      "6500 / 15394\n",
      "6600 / 15394\n",
      "6700 / 15394\n",
      "6800 / 15394\n",
      "6900 / 15394\n",
      "7000 / 15394\n",
      "7100 / 15394\n",
      "7200 / 15394\n",
      "7300 / 15394\n",
      "7400 / 15394\n",
      "7500 / 15394\n",
      "7600 / 15394\n",
      "7700 / 15394\n",
      "7800 / 15394\n",
      "7900 / 15394\n",
      "8000 / 15394\n",
      "8100 / 15394\n",
      "8200 / 15394\n",
      "8300 / 15394\n",
      "8400 / 15394\n",
      "8500 / 15394\n",
      "8600 / 15394\n",
      "8700 / 15394\n",
      "8800 / 15394\n",
      "8900 / 15394\n",
      "9000 / 15394\n",
      "9100 / 15394\n",
      "9200 / 15394\n",
      "9300 / 15394\n",
      "9400 / 15394\n",
      "9500 / 15394\n",
      "9600 / 15394\n",
      "9700 / 15394\n",
      "9800 / 15394\n",
      "9900 / 15394\n",
      "10000 / 15394\n",
      "10100 / 15394\n",
      "10200 / 15394\n",
      "10300 / 15394\n",
      "10400 / 15394\n",
      "10500 / 15394\n",
      "10600 / 15394\n",
      "10700 / 15394\n",
      "10800 / 15394\n",
      "10900 / 15394\n",
      "11000 / 15394\n",
      "11100 / 15394\n",
      "11200 / 15394\n",
      "11300 / 15394\n",
      "11400 / 15394\n",
      "11500 / 15394\n",
      "11600 / 15394\n",
      "11700 / 15394\n",
      "11800 / 15394\n",
      "11900 / 15394\n",
      "12000 / 15394\n",
      "12100 / 15394\n",
      "12200 / 15394\n",
      "12300 / 15394\n",
      "12400 / 15394\n",
      "12500 / 15394\n",
      "12600 / 15394\n",
      "12700 / 15394\n",
      "12800 / 15394\n",
      "12900 / 15394\n",
      "13000 / 15394\n",
      "13100 / 15394\n",
      "13200 / 15394\n",
      "13300 / 15394\n",
      "13400 / 15394\n",
      "13500 / 15394\n",
      "13600 / 15394\n",
      "13700 / 15394\n",
      "13800 / 15394\n",
      "13900 / 15394\n",
      "14000 / 15394\n",
      "14100 / 15394\n",
      "14200 / 15394\n",
      "14300 / 15394\n",
      "14400 / 15394\n",
      "14500 / 15394\n",
      "14600 / 15394\n",
      "14700 / 15394\n",
      "14800 / 15394\n",
      "14900 / 15394\n",
      "15000 / 15394\n",
      "15100 / 15394\n",
      "15200 / 15394\n",
      "15300 / 15394\n"
     ]
    }
   ],
   "source": [
    "div_transformed = scd.transform(subset_corpus)"
   ]
  },
  {
   "source": [
    "Here are the speaker convo entries that have the highest diversity score."
   ],
   "cell_type": "markdown",
   "metadata": {}
  },
  {
   "cell_type": "code",
   "execution_count": 22,
   "metadata": {},
   "outputs": [
    {
     "output_type": "execute_result",
     "data": {
      "text/plain": [
       "                                   speaker convo_id  convo_idx       div\n",
       "id                                                                      \n",
       "Straight_Derpin__5kst5l    Straight_Derpin   5kst5l         34  4.587125\n",
       "Dr_Narwhal__6h08sg              Dr_Narwhal   6h08sg         75  4.537792\n",
       "rrrrrrr1131__8l3xht            rrrrrrr1131   8l3xht         25  4.505238\n",
       "ScottVandeberg__8tlcdl      ScottVandeberg   8tlcdl         81  4.497166\n",
       "SwissWatchesOnly__9hcpip  SwissWatchesOnly   9hcpip        129  4.495047\n",
       "t3hasiangod__5v6sqb            t3hasiangod   5v6sqb        590  4.492316\n",
       "sasha07974__8v40c1              sasha07974   8v40c1         42  4.489417\n",
       "t3hasiangod__4ufm6z            t3hasiangod   4ufm6z        262  4.482046\n",
       "Straight_Derpin__7twbgg    Straight_Derpin   7twbgg        140  4.476163\n",
       "agottler__9iyo8u                  agottler   9iyo8u         66  4.474249"
      ],
      "text/html": "<div>\n<style scoped>\n    .dataframe tbody tr th:only-of-type {\n        vertical-align: middle;\n    }\n\n    .dataframe tbody tr th {\n        vertical-align: top;\n    }\n\n    .dataframe thead th {\n        text-align: right;\n    }\n</style>\n<table border=\"1\" class=\"dataframe\">\n  <thead>\n    <tr style=\"text-align: right;\">\n      <th></th>\n      <th>speaker</th>\n      <th>convo_id</th>\n      <th>convo_idx</th>\n      <th>div</th>\n    </tr>\n    <tr>\n      <th>id</th>\n      <th></th>\n      <th></th>\n      <th></th>\n      <th></th>\n    </tr>\n  </thead>\n  <tbody>\n    <tr>\n      <th>Straight_Derpin__5kst5l</th>\n      <td>Straight_Derpin</td>\n      <td>5kst5l</td>\n      <td>34</td>\n      <td>4.587125</td>\n    </tr>\n    <tr>\n      <th>Dr_Narwhal__6h08sg</th>\n      <td>Dr_Narwhal</td>\n      <td>6h08sg</td>\n      <td>75</td>\n      <td>4.537792</td>\n    </tr>\n    <tr>\n      <th>rrrrrrr1131__8l3xht</th>\n      <td>rrrrrrr1131</td>\n      <td>8l3xht</td>\n      <td>25</td>\n      <td>4.505238</td>\n    </tr>\n    <tr>\n      <th>ScottVandeberg__8tlcdl</th>\n      <td>ScottVandeberg</td>\n      <td>8tlcdl</td>\n      <td>81</td>\n      <td>4.497166</td>\n    </tr>\n    <tr>\n      <th>SwissWatchesOnly__9hcpip</th>\n      <td>SwissWatchesOnly</td>\n      <td>9hcpip</td>\n      <td>129</td>\n      <td>4.495047</td>\n    </tr>\n    <tr>\n      <th>t3hasiangod__5v6sqb</th>\n      <td>t3hasiangod</td>\n      <td>5v6sqb</td>\n      <td>590</td>\n      <td>4.492316</td>\n    </tr>\n    <tr>\n      <th>sasha07974__8v40c1</th>\n      <td>sasha07974</td>\n      <td>8v40c1</td>\n      <td>42</td>\n      <td>4.489417</td>\n    </tr>\n    <tr>\n      <th>t3hasiangod__4ufm6z</th>\n      <td>t3hasiangod</td>\n      <td>4ufm6z</td>\n      <td>262</td>\n      <td>4.482046</td>\n    </tr>\n    <tr>\n      <th>Straight_Derpin__7twbgg</th>\n      <td>Straight_Derpin</td>\n      <td>7twbgg</td>\n      <td>140</td>\n      <td>4.476163</td>\n    </tr>\n    <tr>\n      <th>agottler__9iyo8u</th>\n      <td>agottler</td>\n      <td>9iyo8u</td>\n      <td>66</td>\n      <td>4.474249</td>\n    </tr>\n  </tbody>\n</table>\n</div>"
     },
     "metadata": {},
     "execution_count": 22
    }
   ],
   "source": [
    "div_transformed.get_speaker_convo_attribute_table(attrs=['div']).sort_values('div', ascending=False).head(10)"
   ]
  },
  {
   "source": [
    "Notice that the diversity scores returned by `SpeakerConvoDiversity` are slightly different from the scores returned by the `Surprise` transformer. This difference can be attributed to the addition of Laplace smoothing in the `Surprise` transformer to account for out of vocabulary tokens. The `SpeakerConvoDiversity` transformer deals with OOV tokens by simply treating their count as 1. If you run the `Surprise` transformer with the `smooth` flag set to false, the transformer will treat OOV tokens the same way `SpeakerConvoDiversity` does. When run without smoothing, the `Surprise` transformer returns the same scores as `SpeakerConvoDiversity`."
   ],
   "cell_type": "markdown",
   "metadata": {}
  },
  {
   "source": [
    "Here are the least diverse speaker-convo entries based on the SpeakerConvoDiversity transformer."
   ],
   "cell_type": "markdown",
   "metadata": {}
  },
  {
   "cell_type": "code",
   "execution_count": 23,
   "metadata": {},
   "outputs": [
    {
     "output_type": "execute_result",
     "data": {
      "text/plain": [
       "                               speaker convo_id  convo_idx       div\n",
       "id                                                                  \n",
       "laveritecestla__4pylgl  laveritecestla   4pylgl         74  4.206550\n",
       "happysted__8qssd1            happysted   8qssd1         69  4.214580\n",
       "t3hasiangod__3wtoeo        t3hasiangod   3wtoeo         46  4.220175\n",
       "Fencerman2__6tiomd          Fencerman2   6tiomd        111  4.223014\n",
       "Pjcrafty__5apodz              Pjcrafty   5apodz         17  4.224754\n",
       "shadowclan98__9mfj81      shadowclan98   9mfj81         97  4.227928\n",
       "shadowclan98__6njs8z      shadowclan98   6njs8z          8  4.228818\n",
       "Fencerman2__90r1nf          Fencerman2   90r1nf        231  4.231099\n",
       "dedicateddan__1bdpdq      dedicateddan   1bdpdq          7  4.232478\n",
       "dedicateddan__4krfrc      dedicateddan   4krfrc         97  4.232700"
      ],
      "text/html": "<div>\n<style scoped>\n    .dataframe tbody tr th:only-of-type {\n        vertical-align: middle;\n    }\n\n    .dataframe tbody tr th {\n        vertical-align: top;\n    }\n\n    .dataframe thead th {\n        text-align: right;\n    }\n</style>\n<table border=\"1\" class=\"dataframe\">\n  <thead>\n    <tr style=\"text-align: right;\">\n      <th></th>\n      <th>speaker</th>\n      <th>convo_id</th>\n      <th>convo_idx</th>\n      <th>div</th>\n    </tr>\n    <tr>\n      <th>id</th>\n      <th></th>\n      <th></th>\n      <th></th>\n      <th></th>\n    </tr>\n  </thead>\n  <tbody>\n    <tr>\n      <th>laveritecestla__4pylgl</th>\n      <td>laveritecestla</td>\n      <td>4pylgl</td>\n      <td>74</td>\n      <td>4.206550</td>\n    </tr>\n    <tr>\n      <th>happysted__8qssd1</th>\n      <td>happysted</td>\n      <td>8qssd1</td>\n      <td>69</td>\n      <td>4.214580</td>\n    </tr>\n    <tr>\n      <th>t3hasiangod__3wtoeo</th>\n      <td>t3hasiangod</td>\n      <td>3wtoeo</td>\n      <td>46</td>\n      <td>4.220175</td>\n    </tr>\n    <tr>\n      <th>Fencerman2__6tiomd</th>\n      <td>Fencerman2</td>\n      <td>6tiomd</td>\n      <td>111</td>\n      <td>4.223014</td>\n    </tr>\n    <tr>\n      <th>Pjcrafty__5apodz</th>\n      <td>Pjcrafty</td>\n      <td>5apodz</td>\n      <td>17</td>\n      <td>4.224754</td>\n    </tr>\n    <tr>\n      <th>shadowclan98__9mfj81</th>\n      <td>shadowclan98</td>\n      <td>9mfj81</td>\n      <td>97</td>\n      <td>4.227928</td>\n    </tr>\n    <tr>\n      <th>shadowclan98__6njs8z</th>\n      <td>shadowclan98</td>\n      <td>6njs8z</td>\n      <td>8</td>\n      <td>4.228818</td>\n    </tr>\n    <tr>\n      <th>Fencerman2__90r1nf</th>\n      <td>Fencerman2</td>\n      <td>90r1nf</td>\n      <td>231</td>\n      <td>4.231099</td>\n    </tr>\n    <tr>\n      <th>dedicateddan__1bdpdq</th>\n      <td>dedicateddan</td>\n      <td>1bdpdq</td>\n      <td>7</td>\n      <td>4.232478</td>\n    </tr>\n    <tr>\n      <th>dedicateddan__4krfrc</th>\n      <td>dedicateddan</td>\n      <td>4krfrc</td>\n      <td>97</td>\n      <td>4.232700</td>\n    </tr>\n  </tbody>\n</table>\n</div>"
     },
     "metadata": {},
     "execution_count": 23
    }
   ],
   "source": [
    "div_transformed.get_speaker_convo_attribute_table(attrs=['div']).sort_values('div').head(10)"
   ]
  },
  {
   "cell_type": "code",
   "execution_count": null,
   "metadata": {},
   "outputs": [],
   "source": []
  }
 ],
 "metadata": {
  "kernelspec": {
   "display_name": "convokit-venv",
   "language": "python",
   "name": "convokit-venv"
  },
  "language_info": {
   "codemirror_mode": {
    "name": "ipython",
    "version": 3
   },
   "file_extension": ".py",
   "mimetype": "text/x-python",
   "name": "python",
   "nbconvert_exporter": "python",
   "pygments_lexer": "ipython3",
   "version": "3.7.7-final"
  }
 },
 "nbformat": 4,
 "nbformat_minor": 4
}